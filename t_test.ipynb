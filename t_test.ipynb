{
 "cells": [
  {
   "cell_type": "code",
   "execution_count": 1,
   "metadata": {},
   "outputs": [],
   "source": [
    "\n",
    "\n",
    "import pytrec_eval\n",
    "import sys\n",
    "from statistics import mean\n",
    "from collections import defaultdict\n",
    "qrel_file = \"../msmarco/qrels.dev.tsv\"\n",
    "\n",
    "\n",
    "qrels = defaultdict(dict)\n",
    "with open(qrel_file) as f:\n",
    "    for line in f:\n",
    "        try:\n",
    "            qid, _, did, rel = line.strip().split(\"\\t\")\n",
    "        except:\n",
    "            qid, _, did, rel = line.strip().split(\" \")\n",
    "        if int(rel) > 0:\n",
    "            qrels[qid][did] = int(rel)"
   ]
  },
  {
   "cell_type": "code",
   "execution_count": 8,
   "metadata": {},
   "outputs": [],
   "source": [
    "from collections import defaultdict\n",
    "\n",
    "q_d_scores = []\n",
    "f1= \"../share_tir/output_dev_colbert_klar0.01-effi.tsv\"\n",
    "\n",
    "        \n",
    "run1 = defaultdict(dict)\n",
    "\n",
    "with open(f1) as f:\n",
    "    for line in f:\n",
    "        qid, did, score = line.strip().split(\"\\t\")\n",
    "        run1[qid][did] = float(score)\n",
    "for VALIDATION_METRIC in ['recip_rank']:\n",
    "    for top_k in [10]:\n",
    "        top_run = defaultdict(dict)\n",
    "        for q in run1:\n",
    "            docs = sorted(run1[q].items(), key=lambda x: -x[1])\n",
    "            for item in docs[:top_k]:\n",
    "                top_run[q][item[0]] = item[1]\n",
    "        trec_eval = pytrec_eval.RelevanceEvaluator(qrels, {VALIDATION_METRIC})\n",
    "        eval_scores1 = trec_eval.evaluate(top_run)\n",
    "        \n"
   ]
  },
  {
   "cell_type": "code",
   "execution_count": 20,
   "metadata": {},
   "outputs": [],
   "source": [
    "from collections import defaultdict\n",
    "\n",
    "q_d_scores = []\n",
    "f1= \"../share_tir/output_dev_colbert_klar0.02-effi.tsv\"\n",
    "\n",
    "        \n",
    "run1 = defaultdict(dict)\n",
    "\n",
    "with open(f1) as f:\n",
    "    for line in f:\n",
    "        qid, did, score = line.strip().split(\"\\t\")\n",
    "        run1[qid][did] = float(score)\n",
    "for VALIDATION_METRIC in ['recip_rank']:\n",
    "    for top_k in [10]:\n",
    "        top_run = defaultdict(dict)\n",
    "        for q in run1:\n",
    "            docs = sorted(run1[q].items(), key=lambda x: -x[1])\n",
    "            for item in docs[:top_k]:\n",
    "                top_run[q][item[0]] = item[1]\n",
    "        trec_eval = pytrec_eval.RelevanceEvaluator(qrels, {VALIDATION_METRIC})\n",
    "        eval_scores1 = trec_eval.evaluate(top_run)\n",
    "        \n"
   ]
  },
  {
   "cell_type": "code",
   "execution_count": 24,
   "metadata": {},
   "outputs": [],
   "source": [
    "from collections import defaultdict\n",
    "\n",
    "q_d_scores = []\n",
    "f2= \"../share_tir/output_dev_colbert_klar0.01-effi.tsv\"\n",
    "\n",
    "        \n",
    "run2 = defaultdict(dict)\n",
    "\n",
    "with open(f2) as f:\n",
    "    for line in f:\n",
    "        qid, did, score = line.strip().split(\"\\t\")\n",
    "        run2[qid][did] = float(score)\n",
    "for VALIDATION_METRIC in ['recip_rank']:\n",
    "    for top_k in [10]:\n",
    "        top_run = defaultdict(dict)\n",
    "        for q in run1:\n",
    "            docs = sorted(run2[q].items(), key=lambda x: -x[1])\n",
    "            for item in docs[:top_k]:\n",
    "                top_run[q][item[0]] = item[1]\n",
    "        trec_eval = pytrec_eval.RelevanceEvaluator(qrels, {VALIDATION_METRIC})\n",
    "        eval_scores2 = trec_eval.evaluate(top_run)\n",
    "        \n"
   ]
  },
  {
   "cell_type": "code",
   "execution_count": 25,
   "metadata": {},
   "outputs": [],
   "source": [
    "d = []\n",
    "for q in eval_scores1:\n",
    "    d.append(eval_scores1[q][VALIDATION_METRIC] - eval_scores2[q][VALIDATION_METRIC])"
   ]
  },
  {
   "cell_type": "code",
   "execution_count": 26,
   "metadata": {},
   "outputs": [
    {
     "data": {
      "text/plain": [
       "1.6868559561498293"
      ]
     },
     "execution_count": 26,
     "metadata": {},
     "output_type": "execute_result"
    }
   ],
   "source": [
    "import numpy as np\n",
    "t = np.sum(d)/np.sqrt( (len(d) * np.sum([x**2 for x in d]) - np.sum(d) ** 2) / (len(d) - 1) )\n",
    "t"
   ]
  },
  {
   "cell_type": "code",
   "execution_count": 27,
   "metadata": {},
   "outputs": [
    {
     "data": {
      "text/plain": [
       "0.045837875299747095"
      ]
     },
     "execution_count": 27,
     "metadata": {},
     "output_type": "execute_result"
    }
   ],
   "source": [
    "import scipy\n",
    "scipy.stats.t.sf(abs(t), df=len(d) - 1)"
   ]
  },
  {
   "cell_type": "code",
   "execution_count": null,
   "metadata": {},
   "outputs": [],
   "source": []
  }
 ],
 "metadata": {
  "kernelspec": {
   "display_name": "Python 3.9.15 ('splade')",
   "language": "python",
   "name": "python3"
  },
  "language_info": {
   "codemirror_mode": {
    "name": "ipython",
    "version": 3
   },
   "file_extension": ".py",
   "mimetype": "text/x-python",
   "name": "python",
   "nbconvert_exporter": "python",
   "pygments_lexer": "ipython3",
   "version": "3.9.15"
  },
  "orig_nbformat": 4,
  "vscode": {
   "interpreter": {
    "hash": "458e2a8ef8b08ad3dc2bfea142b10c32f63072c11d7a2438fb355a98d278c635"
   }
  }
 },
 "nbformat": 4,
 "nbformat_minor": 2
}
