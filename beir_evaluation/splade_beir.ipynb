{
 "cells": [
  {
   "cell_type": "markdown",
   "id": "cleared-savings",
   "metadata": {},
   "source": [
    "# Evaluating SPLADE (Sparse Lexical and Expansion Model for First Stage Ranking) with BEIR"
   ]
  },
  {
   "cell_type": "markdown",
   "id": "diagnostic-carolina",
   "metadata": {},
   "source": [
    "This notebook gives a minimal example usage for evaluating SPLADE on the BEIR benchmark (https://github.com/UKPLab/beir). \n",
    "\n",
    "Below are the BEIR performances of our distilled model (`../weights/distilsplade_max`) (see: https://arxiv.org/abs/2109.10086 for more details on training SPLADE with Margin-MSE distillation).\n",
    "\n",
    "|      dataset      | NDCG@10 | Recall@10 |\n",
    "|:-----------------:|:-------:|:---------:|\n",
    "|      ArguAna      |  0.479  |   97.23   |\n",
    "|   Climate-FEVER   |  0.235  |   52.43   |\n",
    "|      DBPedia      |  0.435  |   57.52   |\n",
    "|       FEVER       |  0.786  |   95.14   |\n",
    "|    FiQA-2018      |  0.336  |   62.10   |\n",
    "|      HotpotQA     |  0.684  |   82.03   |\n",
    "|      NFCorpus     |  0.334  |   27.71   |\n",
    "|         NQ        |  0.521  |   93.05   |\n",
    "|       Quora       |  0.838  |   98.69   |\n",
    "|      SCIDOCS      |  0.158  |   36.43   |\n",
    "|      SciFact      |  0.693  |   92.03   |\n",
    "|     TREC-COVID    |  0.710  |   54.98   |\n",
    "|  Touché-2020 (v1) |  0.364  |   35.39   |\n",
    "|    Avg. zero-shot |  0.506  |   66.89   |"
   ]
  },
  {
   "cell_type": "code",
   "execution_count": 1,
   "id": "occupational-handbook",
   "metadata": {},
   "outputs": [],
   "source": [
    "from models import Splade, BEIRSpladeModel\n",
    "from transformers import AutoModelForMaskedLM, AutoTokenizer"
   ]
  },
  {
   "cell_type": "code",
   "execution_count": 2,
   "id": "random-morgan",
   "metadata": {},
   "outputs": [],
   "source": [
    "# set the dir for trained weights\n",
    "# NOTE: this version only works for max agg in SPLADE, so the two directories below !\n",
    "# If you want to use old weights (\"../weights/flops_best\" and \"../weights/flops_efficient\") for BEIR benchmark,\n",
    "# change the SPLADE aggregation in SPLADE forward in models.py\n",
    "\n",
    "model_type_or_dir = \"../weights/distilsplade_max\"\n",
    "# model_type_or_dir = \"../weights/splade_max\""
   ]
  },
  {
   "cell_type": "code",
   "execution_count": 3,
   "id": "interior-biology",
   "metadata": {},
   "outputs": [],
   "source": [
    "# loading model and tokenizer\n",
    "\n",
    "model = Splade(model_type_or_dir)\n",
    "model.eval()\n",
    "tokenizer = AutoTokenizer.from_pretrained(model_type_or_dir)\n",
    "beir_splade = BEIRSpladeModel(model, tokenizer)"
   ]
  },
  {
   "cell_type": "code",
   "execution_count": 4,
   "id": "thousand-strike",
   "metadata": {},
   "outputs": [
    {
     "data": {
      "application/vnd.jupyter.widget-view+json": {
       "model_id": "792e56abc5c646fab728a1f40d9c9bd2",
       "version_major": 2,
       "version_minor": 0
      },
      "text/plain": [
       "dataset/nfcorpus/nfcorpus.zip:   0%|          | 0.00/2.34M [00:00<?, ?iB/s]"
      ]
     },
     "metadata": {},
     "output_type": "display_data"
    },
    {
     "data": {
      "application/vnd.jupyter.widget-view+json": {
       "model_id": "fc40cf4239a64bc08ab5f417d0c77dfa",
       "version_major": 2,
       "version_minor": 0
      },
      "text/plain": [
       "  0%|          | 0/3633 [00:00<?, ?it/s]"
      ]
     },
     "metadata": {},
     "output_type": "display_data"
    }
   ],
   "source": [
    "from beir.datasets.data_loader import GenericDataLoader\n",
    "from beir.retrieval.evaluation import EvaluateRetrieval\n",
    "from beir import util, LoggingHandler\n",
    "\n",
    "dataset = \"nfcorpus\"\n",
    "\n",
    "url = \"https://public.ukp.informatik.tu-darmstadt.de/thakur/BEIR/datasets/{}.zip\".format(dataset)\n",
    "out_dir = \"dataset/{}\".format(dataset)\n",
    "data_path = util.download_and_unzip(url, out_dir)\n",
    "\n",
    "#### Provide the data path where nfcorpus has been downloaded and unzipped to the data loader\n",
    "# data folder would contain these files: \n",
    "# (1) nfcorpus/corpus.jsonl  (format: jsonlines)\n",
    "# (2) nfcorpus/queries.jsonl (format: jsonlines)\n",
    "# (3) nfcorpus/qrels/test.tsv (format: tsv (\"\\t\"))\n",
    "\n",
    "corpus, queries, qrels = GenericDataLoader(data_folder=data_path).load(split=\"test\")"
   ]
  },
  {
   "cell_type": "code",
   "execution_count": 5,
   "id": "worst-dispatch",
   "metadata": {},
   "outputs": [
    {
     "name": "stderr",
     "output_type": "stream",
     "text": [
      "/home/tformal/deep_ir/lib64/python3.8/site-packages/torch/cuda/__init__.py:52: UserWarning: CUDA initialization: Found no NVIDIA driver on your system. Please check that you have an NVIDIA GPU and installed a driver from http://www.nvidia.com/Download/index.aspx (Triggered internally at  /pytorch/c10/cuda/CUDAFunctions.cpp:100.)\n",
      "  return torch._C._cuda_getDeviceCount() > 0\n"
     ]
    },
    {
     "data": {
      "application/vnd.jupyter.widget-view+json": {
       "model_id": "59a9e3c58fca4a8f82b22ac190fc991a",
       "version_major": 2,
       "version_minor": 0
      },
      "text/plain": [
       "Batches:   0%|          | 0/11 [00:00<?, ?it/s]"
      ]
     },
     "metadata": {},
     "output_type": "display_data"
    },
    {
     "data": {
      "application/vnd.jupyter.widget-view+json": {
       "model_id": "ccaba1e21e0345d1949d3ef24297138c",
       "version_major": 2,
       "version_minor": 0
      },
      "text/plain": [
       "Batches:   0%|          | 0/114 [00:00<?, ?it/s]"
      ]
     },
     "metadata": {},
     "output_type": "display_data"
    },
    {
     "name": "stdout",
     "output_type": "stream",
     "text": [
      "res for nfcorpus: {'NDCG@10': 0.33409, 'Recall@100': 0.27705, 'R_cap@100': 0.29269}\n"
     ]
    }
   ],
   "source": [
    "from beir.retrieval.search.dense import DenseRetrievalExactSearch as DRES\n",
    "from beir.retrieval.evaluation import EvaluateRetrieval\n",
    "\n",
    "dres = DRES(beir_splade)\n",
    "retriever = EvaluateRetrieval(dres, score_function=\"dot\")\n",
    "results = retriever.retrieve(corpus, queries)\n",
    "ndcg, map_, recall, p = EvaluateRetrieval.evaluate(qrels, results, [1, 10, 100, 1000])\n",
    "results2 = EvaluateRetrieval.evaluate_custom(qrels, results, [1, 10, 100, 1000], metric=\"r_cap\")\n",
    "res = {\"NDCG@10\": ndcg[\"NDCG@10\"],\n",
    "       \"Recall@100\": recall[\"Recall@100\"],\n",
    "       \"R_cap@100\": results2[\"R_cap@100\"]}\n",
    "print(\"res for {}:\".format(dataset), res, flush=True)"
   ]
  },
  {
   "cell_type": "code",
   "execution_count": null,
   "id": "1c20b1c3",
   "metadata": {},
   "outputs": [],
   "source": []
  }
 ],
 "metadata": {
  "kernelspec": {
   "display_name": "Python 3 (ipykernel)",
   "language": "python",
   "name": "python3"
  },
  "language_info": {
   "codemirror_mode": {
    "name": "ipython",
    "version": 3
   },
   "file_extension": ".py",
   "mimetype": "text/x-python",
   "name": "python",
   "nbconvert_exporter": "python",
   "pygments_lexer": "ipython3",
   "version": "3.9.4"
  }
 },
 "nbformat": 4,
 "nbformat_minor": 5
}
