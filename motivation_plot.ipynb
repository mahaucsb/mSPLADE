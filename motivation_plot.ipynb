{
 "cells": [
  {
   "cell_type": "code",
   "execution_count": 1,
   "metadata": {},
   "outputs": [],
   "source": [
    "from collections import defaultdict\n",
    "import numpy as np\n",
    "import os\n",
    "import gzip\n",
    "import json\n",
    "import tqdm"
   ]
  },
  {
   "cell_type": "code",
   "execution_count": 2,
   "metadata": {},
   "outputs": [],
   "source": [
    "qrels = defaultdict(dict)\n",
    "with open(\"../msmarco/2019qrels-pass.txt\") as f:\n",
    "    for line in f:\n",
    "        qid, _, did, rel = line.strip().split(\" \")\n",
    "        if int(rel) > 0:\n",
    "            if rel not in qrels[qid]:\n",
    "                qrels[qid][rel] = []\n",
    "            qrels[qid][rel].append(did)\n",
    "        "
   ]
  },
  {
   "cell_type": "code",
   "execution_count": 2,
   "metadata": {},
   "outputs": [
    {
     "name": "stdout",
     "output_type": "stream",
     "text": [
      "file_86.jsonl.gz\n"
     ]
    },
    {
     "name": "stderr",
     "output_type": "stream",
     "text": [
      "100000it [00:21, 4568.93it/s]\n"
     ]
    },
    {
     "name": "stdout",
     "output_type": "stream",
     "text": [
      "file_68.jsonl.gz\n"
     ]
    },
    {
     "name": "stderr",
     "output_type": "stream",
     "text": [
      "100000it [00:21, 4695.13it/s]\n"
     ]
    },
    {
     "name": "stdout",
     "output_type": "stream",
     "text": [
      "file_59.jsonl.gz\n"
     ]
    },
    {
     "name": "stderr",
     "output_type": "stream",
     "text": [
      "100000it [00:22, 4351.71it/s]\n"
     ]
    },
    {
     "name": "stdout",
     "output_type": "stream",
     "text": [
      "file_77.jsonl.gz\n"
     ]
    },
    {
     "name": "stderr",
     "output_type": "stream",
     "text": [
      "100000it [00:23, 4222.20it/s]\n"
     ]
    },
    {
     "name": "stdout",
     "output_type": "stream",
     "text": [
      "file_42.jsonl.gz\n"
     ]
    },
    {
     "name": "stderr",
     "output_type": "stream",
     "text": [
      "100000it [00:22, 4521.28it/s]\n"
     ]
    },
    {
     "name": "stdout",
     "output_type": "stream",
     "text": [
      "file_24.jsonl.gz\n"
     ]
    },
    {
     "name": "stderr",
     "output_type": "stream",
     "text": [
      "100000it [00:21, 4733.72it/s]\n"
     ]
    },
    {
     "name": "stdout",
     "output_type": "stream",
     "text": [
      "file_60.jsonl.gz\n"
     ]
    },
    {
     "name": "stderr",
     "output_type": "stream",
     "text": [
      "100000it [00:22, 4526.34it/s]\n"
     ]
    },
    {
     "name": "stdout",
     "output_type": "stream",
     "text": [
      "file_15.jsonl.gz\n"
     ]
    },
    {
     "name": "stderr",
     "output_type": "stream",
     "text": [
      "100000it [00:21, 4715.23it/s]\n"
     ]
    },
    {
     "name": "stdout",
     "output_type": "stream",
     "text": [
      "file_51.jsonl.gz\n"
     ]
    },
    {
     "name": "stderr",
     "output_type": "stream",
     "text": [
      "8091it [00:01, 4718.43it/s]"
     ]
    },
    {
     "ename": "",
     "evalue": "",
     "output_type": "error",
     "traceback": [
      "\u001b[1;31mThe Kernel crashed while executing code in the the current cell or a previous cell. Please review the code in the cell(s) to identify a possible cause of the failure. Click <a href='https://aka.ms/vscodeJupyterKernelCrash'>here</a> for more info. View Jupyter <a href='command:jupyter.viewOutput'>log</a> for further details."
     ]
    },
    {
     "ename": "",
     "evalue": "",
     "output_type": "error",
     "traceback": [
      "\u001b[1;31mCanceled future for execute_request message before replies were done"
     ]
    }
   ],
   "source": [
    "# baseline:\n",
    "all_docs = set()\n",
    "with open(\"../msmarco/wentai_splade_2019.trec\") as f:\n",
    "    for line in f:\n",
    "        _, _, did, rank, _, _ = line.strip().split(\"\\t\")\n",
    "        if int(rank) <= 100:\n",
    "            all_docs.add(int(did))\n",
    "\n",
    "fo = open(\"splade_doc_vector_trec19_sh.json\", \"wb\")\n",
    "indexdir = \"training_with_sentence_transformers/output/splade_distill_num1_kldiv_position_focal_mrr_diff_gamma5.0-alpha1.0_denoiseFalse_num20_kldiv_position_focal5-lambda0.0-0.0_lr1e-05-batch_size_32x4-2022-11-24/index\"\n",
    "for file in os.listdir(indexdir):\n",
    "    if file[:4] == 'file':\n",
    "        with gzip.open(os.path.join(indexdir, file)) as f:\n",
    "            print(file)\n",
    "            for line in tqdm.tqdm(f):\n",
    "                info = json.loads(line)\n",
    "                if info['id'] in all_docs:\n",
    "                    fo.write(line)\n",
    "                    fo.flush()\n",
    "\n",
    "fo.close()"
   ]
  },
  {
   "cell_type": "code",
   "execution_count": 13,
   "metadata": {},
   "outputs": [
    {
     "data": {
      "text/plain": [
       "b'{\"id\": 8600136, \"content\": \"Roasting is a good cooking method for large, tender cuts of beef, pork or lamb. It\\\\u00e2\\\\u0080\\\\u0099s also a great way to cook poultry and fish. You can roast vegetables, too, especially if you roast them alongside the meat. The best vegetables for roasting are starchy root vegetables.\", \"vector\": {\",\": 114, \"-\": 9, \"a\": 42, \"i\": 11, \"p\": 81, \"q\": 63, \"s\": 10, \"of\": 34, \"and\": 44, \"in\": 22, \"to\": 52, \"is\": 78, \"as\": 29, \"for\": 62, \"on\": 21, \"with\": 31, \"it\": 43, \"his\": 3, \"##s\": 7, \"you\": 68, \"are\": 41, \"not\": 17, \"or\": 32, \"first\": 30, \"also\": 23, \"who\": 21, \"out\": 25, \"when\": 17, \"time\": 28, \"no\": 75, \"about\": 8, \"more\": 19, \"##e\": 25, \"can\": 71, \"if\": 14, \"them\": 17, \"some\": 22, \"##ing\": 149, \"do\": 28, \"made\": 16, \"than\": 16, \"most\": 35, \"down\": 31, \"well\": 5, \"while\": 29, \"will\": 9, \"##ed\": 39, \"used\": 67, \"##er\": 18, \"way\": 100, \"re\": 2, \"how\": 9, \"because\": 42, \"work\": 38, \"us\": 11, \"day\": 30, \"right\": 24, \"season\": 24, \"including\": 8, \"same\": 23, \"called\": 21, \"name\": 5, \"home\": 15, \"best\": 107, \"make\": 9, \"good\": 112, \"too\": 33, \"want\": 15, \"side\": 22, \"use\": 69, \"small\": 39, \"along\": 26, \"set\": 5, \"church\": 1, \"next\": 20, \"system\": 1, \"without\": 1, \"body\": 34, \"great\": 30, \"large\": 123, \"should\": 44, \"top\": 12, \"open\": 35, \"times\": 21, \"why\": 15, \"need\": 32, \"##p\": 44, \"together\": 32, \"main\": 27, \"served\": 23, \"##en\": 23, \"##in\": 0, \"##al\": 6, \"help\": 69, \"english\": 17, \"often\": 28, \"include\": 51, \"species\": 38, \"making\": 30, \"round\": 24, \"using\": 29, \"car\": 10, \"close\": 21, \"big\": 39, \"total\": 9, \"works\": 17, \"done\": 17, \"important\": 8, \"instead\": 25, \"sound\": 7, \"considered\": 33, \"god\": 23, \"language\": 84, \"green\": 4, \"mouth\": 12, \"common\": 0, \"start\": 12, \"doing\": 18, \"training\": 3, \"star\": 119, \"yes\": 6, \"word\": 7, \"usually\": 9, \"##ness\": 6, \"style\": 42, \"press\": 12, \"mean\": 37, \"##ch\": 52, \"type\": 30, \"process\": 23, \"food\": 100, \"range\": 5, \"##w\": 28, \"list\": 48, \"sir\": 27, \"largest\": 31, \"especially\": 13, \"size\": 27, \"includes\": 25, \"means\": 15, \"##ling\": 22, \"raised\": 21, \"cut\": 152, \"natural\": 9, \"parts\": 34, \"allowed\": 13, \"shows\": 13, \"provide\": 7, \"skin\": 49, \"opening\": 2, \"job\": 18, \"##ies\": 11, \"source\": 33, \"covered\": 4, \"operation\": 3, \"whether\": 16, \"direction\": 22, \"##ion\": 51, \"plant\": 38, \"appearance\": 7, \"step\": 33, \"##ation\": 40, \"material\": 38, \"legs\": 13, \"results\": 17, \"larger\": 28, \"allow\": 17, \"marriage\": 0, \"variety\": 88, \"serving\": 52, \"wood\": 31, \"prime\": 118, \"meaning\": 44, \"horse\": 26, \"uses\": 51, \"choice\": 52, \"safe\": 37, \"growing\": 1, \"heat\": 38, \"products\": 39, \"serve\": 21, \"##ve\": 38, \"easy\": 11, \"quality\": 2, \"mass\": 33, \"broadcast\": 33, \"offer\": 8, \"needs\": 9, \"purpose\": 101, \"perfect\": 31, \"kitchen\": 53, \"fish\": 123, \"garden\": 11, \"beside\": 88, \"dog\": 45, \"pair\": 10, \"treatment\": 12, \"produce\": 36, \"ways\": 34, \"activity\": 40, \"necessary\": 32, \"alongside\": 119, \"pieces\": 24, \"animal\": 72, \"method\": 90, \"types\": 59, \"commonly\": 2, \"coffee\": 40, \"##q\": 66, \"animals\": 69, \"sources\": 15, \"plants\": 31, \"##age\": 6, \"en\": 18, \"draft\": 18, \"reasons\": 49, \"sunday\": 23, \"difference\": 9, \"opportunity\": 5, \"opposite\": 38, \"eat\": 101, \"alternative\": 6, \"##house\": 4, \"dinner\": 55, \"bowl\": 6, \"catch\": 15, \"effective\": 10, \"application\": 15, \"besides\": 71, \"mix\": 19, \"rare\": 13, \"##ping\": 43, \"methods\": 98, \"bird\": 27, \"restaurant\": 6, \"fresh\": 0, \"approved\": 10, \"cat\": 51, \"examples\": 26, \"turkey\": 19, \"selection\": 5, \"birds\": 81, \"items\": 12, \"horses\": 24, \"biggest\": 0, \"burning\": 35, \"causes\": 2, \"responsibility\": 23, \"proper\": 26, \"medium\": 2, \"beer\": 7, \"##chi\": 17, \"sections\": 22, \"smell\": 31, \"feed\": 66, \"favorite\": 38, \"vs\": 25, \"manner\": 21, \"techniques\": 67, \"steam\": 36, \"taste\": 20, \"mode\": 21, \"grass\": 16, \"smoke\": 16, \"accompanied\": 70, \"fishing\": 69, \"strategy\": 23, \"cook\": 164, \"replace\": 3, \"purposes\": 43, \"option\": 15, \"benefit\": 17, \"flesh\": 9, \"organ\": 7, \"##ating\": 15, \"tools\": 10, \"fruit\": 16, \"requirements\": 1, \"clothing\": 0, \"waste\": 4, \"surgery\": 7, \"eating\": 74, \"##izing\": 9, \"technique\": 45, \"advice\": 4, \"possibility\": 7, \"dogs\": 27, \"practices\": 10, \"pan\": 58, \"roots\": 46, \"hop\": 33, \"jamie\": 5, \"ca\": 8, \"definition\": 109, \"meat\": 171, \"raising\": 32, \"cutting\": 96, \"raw\": 57, \"bible\": 5, \"il\": 16, \"profile\": 9, \"wound\": 29, \"processing\": 34, \"chemistry\": 16, \"burn\": 25, \"##ving\": 23, \"na\": 29, \"benefits\": 47, \"perfectly\": 14, \"recommended\": 43, \"eggs\": 1, \"pit\": 37, \"##zing\": 24, \"##ach\": 26, \"bonus\": 2, \"mixing\": 1, \"essential\": 18, \"amy\": 20, \"preferred\": 7, \"tool\": 9, \"options\": 36, \"root\": 112, \"cattle\": 43, \"raf\": 84, \"suitable\": 52, \"##ane\": 5, \"categories\": 7, \"##ery\": 12, \"prepare\": 60, \"##ening\": 20, \"treat\": 10, \"preparation\": 35, \"cuts\": 168, \"substitute\": 1, \"procedure\": 39, \"ideal\": 34, \"sa\": 45, \"stem\": 14, \"meal\": 24, \"healthy\": 31, \"##ew\": 2, \"chicken\": 128, \"##ering\": 27, \"chuck\": 7, \"instructions\": 34, \"##ration\": 17, \"proteins\": 9, \"usage\": 12, \"preparing\": 12, \"sin\": 40, \"sheep\": 92, \"consumption\": 25, \"cooking\": 177, \"##ings\": 87, \"tender\": 153, \"ba\": 115, \"diet\": 38, \"crops\": 33, \"ate\": 14, \"breed\": 30, \"procedures\": 22, \"cats\": 35, \"te\": 0, \"pot\": 41, \"grain\": 5, \"pet\": 14, \"pound\": 26, \"criteria\": 11, \"##rated\": 29, \"##wing\": 26, \"##ising\": 65, \"smoking\": 18, \"foods\": 106, \"duck\": 11, \"prefer\": 2, \"lifestyle\": 3, \"consideration\": 20, \"choices\": 5, \"dish\": 62, \"varieties\": 22, \"chef\": 23, \"vegetation\": 11, \"buck\": 19, \"hon\": 15, \"##eon\": 13, \"cal\": 15, \"ribs\": 28, \"pig\": 111, \"crop\": 8, \"rabbit\": 23, \"dishes\": 65, \"ham\": 49, \"tu\": 37, \"heating\": 50, \"que\": 12, \"juice\": 12, \"fruits\": 15, \"pr\": 6, \"timing\": 62, \"shepherd\": 11, \"cow\": 101, \"##met\": 75, \"livestock\": 55, \"vegetables\": 157, \"##chy\": 146, \"dairy\": 62, \"salmon\": 12, \"par\": 41, \"metals\": 7, \"butter\": 9, \"##ils\": 31, \"preference\": 11, \"menu\": 15, \"trim\": 23, \"meals\": 10, \"beef\": 186, \"lamb\": 189, \"##making\": 30, \"advantages\": 9, \"##cut\": 28, \"ingredients\": 32, \"herb\": 11, \"nigel\": 43, \"recommendation\": 14, \"cuisine\": 31, \"tomatoes\": 45, \"barker\": 21, \"cooked\": 106, \"fried\": 10, \"necessity\": 0, \"def\": 21, \"goat\": 37, \"complement\": 42, \"ing\": 12, \"peel\": 28, \"##ost\": 0, \"nutrition\": 35, \"pal\": 12, \"potato\": 7, \"slaughter\": 34, \"potatoes\": 72, \"pigs\": 57, \"slice\": 78, \"fry\": 74, \"ducks\": 57, \"flavor\": 7, \"butcher\": 96, \"toast\": 81, \"vegetable\": 167, \"bites\": 23, \"##tton\": 39, \"greens\": 4, \"##nies\": 8, \"breeds\": 36, \"sliced\": 20, \"pork\": 195, \"boiling\": 64, \"mas\": 50, \"stove\": 14, \"##iling\": 102, \"cooke\": 106, \"##aging\": 1, \"considerations\": 2, \"boiled\": 54, \"cows\": 95, \"oven\": 82, \"prep\": 37, \"herbs\": 26, \"baked\": 58, \"digest\": 103, \"##ume\": 1, \"recipe\": 119, \"goats\": 29, \"microwave\": 29, \"carving\": 13, \"##iled\": 21, \"treats\": 26, \"pets\": 47, \"catering\": 15, \"grill\": 106, \"browning\": 59, \"bas\": 3, \"##ald\": 44, \"##entation\": 23, \"flock\": 16, \"recipes\": 76, \"ao\": 12, \"##hea\": 53, \"anal\": 40, \"eats\": 13, \"nutrients\": 7, \"culinary\": 28, \"stew\": 42, \"ut\": 0, \"steak\": 10, \"baking\": 63, \"ingredient\": 20, \"hen\": 24, \"chickens\": 121, \"grease\": 1, \"fishes\": 45, \"tags\": 13, \"poultry\": 145, \"##llet\": 22, \"cakes\": 11, \"tha\": 0, \"norwood\": 0, \"versatile\": 23, \"##icing\": 15, \"vegetarian\": 34, \"seafood\": 39, \"##bation\": 7, \"boar\": 29, \"onions\": 32, \"chop\": 50, \"hamburger\": 25, \"##poo\": 3, \"brew\": 20, \"prick\": 33, \"roast\": 255, \"easiest\": 20, \"slices\": 44, \"carrot\": 72, \"searing\": 44, \"##vies\": 13, \"peas\": 22, \"boil\": 76, \"barbecue\": 37, \"cooks\": 91, \"loaf\": 21, \"rooster\": 25, \"roasted\": 179, \"cabbage\": 10, \"vo\": 5}}\\n'"
      ]
     },
     "execution_count": 13,
     "metadata": {},
     "output_type": "execute_result"
    }
   ],
   "source": [
    "line"
   ]
  },
  {
   "cell_type": "code",
   "execution_count": null,
   "metadata": {},
   "outputs": [],
   "source": []
  }
 ],
 "metadata": {
  "kernelspec": {
   "display_name": "Python 3 (ipykernel)",
   "language": "python",
   "name": "python3"
  },
  "language_info": {
   "codemirror_mode": {
    "name": "ipython",
    "version": 3
   },
   "file_extension": ".py",
   "mimetype": "text/x-python",
   "name": "python",
   "nbconvert_exporter": "python",
   "pygments_lexer": "ipython3",
   "version": "3.9.7"
  },
  "vscode": {
   "interpreter": {
    "hash": "28a80ffd683768ef022727de3d90aea96015029e3fc670f9e61f7ae03480e491"
   }
  }
 },
 "nbformat": 4,
 "nbformat_minor": 2
}
