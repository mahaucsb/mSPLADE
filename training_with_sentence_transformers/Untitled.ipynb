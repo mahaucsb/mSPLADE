{
 "cells": [
  {
   "cell_type": "code",
   "execution_count": 8,
   "id": "4c8339e7",
   "metadata": {},
   "outputs": [
    {
     "data": {
      "text/plain": [
       "<All keys matched successfully>"
      ]
     },
     "execution_count": 8,
     "metadata": {},
     "output_type": "execute_result"
    }
   ],
   "source": [
    "import models\n",
    "import torch\n",
    "import os\n",
    "model_name = 'output/colbert_cq_test-2023-05-17/700/0_ColBERTTransformerCQ/'\n",
    "word_embedding_model =  models.ColBERTTransformerCQ(model_name, max_seq_length=256, dim = 128)\n",
    "checkpoint = torch.load(os.path.join(model_name, \"checkpoint.pt\"), map_location='cpu')\n",
    "word_embedding_model.load_state_dict(checkpoint)"
   ]
  },
  {
   "cell_type": "code",
   "execution_count": 9,
   "id": "2e345927",
   "metadata": {},
   "outputs": [],
   "source": [
    "para1 = []\n",
    "for p in word_embedding_model.parameters():\n",
    "    para1.append(p)"
   ]
  },
  {
   "cell_type": "code",
   "execution_count": 10,
   "id": "2d145b47",
   "metadata": {},
   "outputs": [
    {
     "data": {
      "text/plain": [
       "<All keys matched successfully>"
      ]
     },
     "execution_count": 10,
     "metadata": {},
     "output_type": "execute_result"
    }
   ],
   "source": [
    "import models\n",
    "import torch\n",
    "import os\n",
    "model_name = 'output/colbert_cq_test-2023-05-17/700/0_ColBERTTransformerCQ/'\n",
    "word_embedding_model =  models.ColBERTTransformerCQ(model_name, max_seq_length=256, dim = 128)\n",
    "checkpoint = torch.load(os.path.join(model_name, \"checkpoint.pt\"), map_location='cpu')\n",
    "word_embedding_model.load_state_dict(checkpoint)"
   ]
  },
  {
   "cell_type": "code",
   "execution_count": 11,
   "id": "95901425",
   "metadata": {},
   "outputs": [],
   "source": [
    "para2 = []\n",
    "for p in word_embedding_model.parameters():\n",
    "    para2.append(p)"
   ]
  },
  {
   "cell_type": "code",
   "execution_count": 12,
   "id": "137bfd8b",
   "metadata": {},
   "outputs": [
    {
     "name": "stdout",
     "output_type": "stream",
     "text": [
      "True\n",
      "True\n",
      "True\n",
      "True\n",
      "True\n",
      "True\n",
      "True\n",
      "True\n",
      "True\n",
      "True\n",
      "True\n",
      "True\n",
      "True\n",
      "True\n",
      "True\n",
      "True\n",
      "True\n",
      "True\n",
      "True\n",
      "True\n",
      "True\n",
      "True\n",
      "True\n",
      "True\n",
      "True\n",
      "True\n",
      "True\n",
      "True\n",
      "True\n",
      "True\n",
      "True\n",
      "True\n",
      "True\n",
      "True\n",
      "True\n",
      "True\n",
      "True\n",
      "True\n",
      "True\n",
      "True\n",
      "True\n",
      "True\n",
      "True\n",
      "True\n",
      "True\n",
      "True\n",
      "True\n",
      "True\n",
      "True\n",
      "True\n",
      "True\n",
      "True\n",
      "True\n",
      "True\n",
      "True\n",
      "True\n",
      "True\n",
      "True\n",
      "True\n",
      "True\n",
      "True\n",
      "True\n",
      "True\n",
      "True\n",
      "True\n",
      "True\n",
      "True\n",
      "True\n",
      "True\n",
      "True\n",
      "True\n",
      "True\n",
      "True\n",
      "True\n",
      "True\n",
      "True\n",
      "True\n",
      "True\n",
      "True\n",
      "True\n",
      "True\n",
      "True\n",
      "True\n",
      "True\n",
      "True\n",
      "True\n",
      "True\n",
      "True\n",
      "True\n",
      "True\n",
      "True\n",
      "True\n",
      "True\n",
      "True\n",
      "True\n",
      "True\n",
      "True\n",
      "True\n",
      "True\n",
      "True\n",
      "True\n",
      "True\n",
      "True\n",
      "True\n",
      "True\n",
      "True\n",
      "True\n",
      "True\n",
      "True\n",
      "True\n",
      "True\n",
      "True\n",
      "True\n",
      "True\n",
      "True\n",
      "True\n",
      "True\n",
      "True\n",
      "True\n",
      "True\n",
      "True\n",
      "True\n",
      "True\n",
      "True\n",
      "True\n",
      "True\n",
      "True\n",
      "True\n",
      "True\n",
      "True\n",
      "True\n",
      "True\n",
      "True\n",
      "True\n",
      "True\n",
      "True\n",
      "True\n",
      "True\n",
      "True\n",
      "True\n",
      "True\n",
      "True\n",
      "True\n",
      "True\n",
      "True\n",
      "True\n",
      "True\n",
      "True\n",
      "True\n",
      "True\n",
      "True\n",
      "True\n",
      "True\n",
      "True\n",
      "True\n",
      "True\n",
      "True\n",
      "True\n",
      "True\n",
      "True\n",
      "True\n",
      "True\n",
      "True\n",
      "True\n",
      "True\n",
      "True\n",
      "True\n",
      "True\n",
      "True\n",
      "True\n",
      "True\n",
      "True\n",
      "True\n",
      "True\n",
      "True\n",
      "True\n",
      "True\n",
      "True\n",
      "True\n",
      "True\n",
      "True\n",
      "True\n",
      "True\n",
      "True\n",
      "True\n",
      "True\n",
      "True\n",
      "True\n",
      "True\n",
      "True\n",
      "True\n",
      "True\n",
      "True\n",
      "True\n",
      "True\n",
      "True\n",
      "True\n",
      "True\n",
      "True\n",
      "True\n",
      "True\n",
      "True\n",
      "True\n",
      "True\n",
      "True\n",
      "True\n",
      "True\n"
     ]
    }
   ],
   "source": [
    "for p1, p2 in zip(para1, para2):\n",
    "    print(p1.tolist() == p2.tolist())"
   ]
  },
  {
   "cell_type": "code",
   "execution_count": 1,
   "id": "9f750b19",
   "metadata": {},
   "outputs": [
    {
     "data": {
      "text/plain": [
       "<All keys matched successfully>"
      ]
     },
     "execution_count": 1,
     "metadata": {},
     "output_type": "execute_result"
    }
   ],
   "source": [
    "import cq_models\n",
    "import torch\n",
    "import os\n",
    "model_name = 'output/colbert_cq_test-2023-05-17/700/1_CodeLearner/'\n",
    "model =  cq_models.CodeLearner(emb_size = 128, M = 16, K = 256, hidden_size = 128)\n",
    "checkpoint = torch.load(os.path.join(model_name, \"pytorch_model.bin\"), map_location='cpu')\n",
    "model.load_state_dict(checkpoint)"
   ]
  },
  {
   "cell_type": "code",
   "execution_count": 2,
   "id": "fd7e21f0",
   "metadata": {},
   "outputs": [
    {
     "data": {
      "text/plain": [
       "<All keys matched successfully>"
      ]
     },
     "execution_count": 2,
     "metadata": {},
     "output_type": "execute_result"
    }
   ],
   "source": [
    "import cq_models\n",
    "import torch\n",
    "import os\n",
    "model_name = '../../ContextualQuantizer/src/cq_models/model_2layer_new_16_256/epoch_193000.pt'\n",
    "model =  cq_models.CodeLearner(emb_size = 128, M = 16, K = 256, hidden_size = 128)\n",
    "checkpoint = torch.load(model_name, map_location='cpu')\n",
    "model.load_state_dict(checkpoint)\n"
   ]
  },
  {
   "cell_type": "code",
   "execution_count": 5,
   "id": "dffa899a",
   "metadata": {},
   "outputs": [
    {
     "name": "stdout",
     "output_type": "stream",
     "text": [
      "Parameter containing:\n",
      "tensor([[-0.0390, -0.0124, -0.0540,  ...,  0.0014, -0.0320,  0.0298],\n",
      "        [ 0.0421,  0.0234,  0.0365,  ...,  0.0472, -0.0066,  0.0148],\n",
      "        [-0.0601, -0.0215, -0.0300,  ...,  0.0589,  0.0201, -0.0368],\n",
      "        ...,\n",
      "        [-0.0074,  0.0162, -0.0343,  ..., -0.0375, -0.0430,  0.0305],\n",
      "        [-0.0288, -0.0512, -0.0094,  ...,  0.0522,  0.0471,  0.0377],\n",
      "        [ 0.0089, -0.0247,  0.0044,  ..., -0.0625, -0.0082,  0.0589]],\n",
      "       requires_grad=True)\n",
      "Parameter containing:\n",
      "tensor([ 0.0520, -0.0591, -0.0402,  0.0157, -0.0555, -0.0372, -0.0356,  0.0106,\n",
      "         0.0458,  0.0092,  0.0213,  0.0563,  0.0298, -0.0062, -0.0355,  0.0240,\n",
      "        -0.0067,  0.0283, -0.0370, -0.0305, -0.0109, -0.0384,  0.0380,  0.0004,\n",
      "         0.0482, -0.0426,  0.0396,  0.0276, -0.0168, -0.0052,  0.0231,  0.0501,\n",
      "        -0.0256,  0.0176, -0.0041, -0.0476,  0.0025, -0.0568, -0.0461,  0.0556,\n",
      "         0.0430,  0.0137,  0.0552,  0.0494,  0.0030, -0.0282,  0.0179, -0.0090,\n",
      "         0.0046,  0.0327, -0.0493, -0.0382, -0.0204,  0.0462, -0.0156, -0.0206,\n",
      "         0.0332,  0.0241,  0.0339, -0.0547, -0.0403,  0.0396,  0.0566, -0.0571,\n",
      "         0.0115,  0.0565,  0.0507,  0.0187, -0.0483,  0.0441,  0.0195,  0.0452,\n",
      "        -0.0243, -0.0190,  0.0419,  0.0426, -0.0360,  0.0435, -0.0351,  0.0140,\n",
      "         0.0362, -0.0521, -0.0458,  0.0121, -0.0623,  0.0420,  0.0016, -0.0612,\n",
      "         0.0296,  0.0429,  0.0325, -0.0123, -0.0160, -0.0605,  0.0330,  0.0625,\n",
      "         0.0284, -0.0269,  0.0020,  0.0435,  0.0189, -0.0604,  0.0020,  0.0305,\n",
      "        -0.0423, -0.0462,  0.0289,  0.0449, -0.0024,  0.0122,  0.0166, -0.0265,\n",
      "         0.0224, -0.0143, -0.0009,  0.0101, -0.0188, -0.0063,  0.0544, -0.0354,\n",
      "         0.0512,  0.0009, -0.0353,  0.0195, -0.0018,  0.0496,  0.0191,  0.0398],\n",
      "       requires_grad=True)\n",
      "Parameter containing:\n",
      "tensor([[ 0.0220,  0.0023,  0.0107,  ..., -0.0188, -0.0212,  0.0133],\n",
      "        [ 0.0117,  0.0089, -0.0208,  ..., -0.0034,  0.0218,  0.0009],\n",
      "        [-0.0024,  0.0007,  0.0034,  ...,  0.0065,  0.0124,  0.0207],\n",
      "        ...,\n",
      "        [-0.0147, -0.0134, -0.0124,  ..., -0.0050,  0.0076,  0.0192],\n",
      "        [-0.0122,  0.0127,  0.0058,  ...,  0.0196,  0.0161, -0.0203],\n",
      "        [ 0.0096,  0.0091, -0.0074,  ...,  0.0064,  0.0166, -0.0171]],\n",
      "       requires_grad=True)\n",
      "Parameter containing:\n",
      "tensor([-0.0196,  0.0076, -0.0049,  ...,  0.0013, -0.0063,  0.0187],\n",
      "       requires_grad=True)\n",
      "Parameter containing:\n",
      "tensor([[-0.0212, -0.0161,  0.0193,  ..., -0.0335, -0.0425,  0.0816],\n",
      "        [ 0.0437,  0.0610, -0.0041,  ..., -0.0868,  0.0858, -0.0765],\n",
      "        [-0.0503, -0.0536,  0.0781,  ..., -0.0177,  0.0594,  0.0294],\n",
      "        ...,\n",
      "        [ 0.0171,  0.0369,  0.0725,  ..., -0.0141,  0.0033,  0.0033],\n",
      "        [ 0.0567, -0.0045,  0.0634,  ...,  0.0156, -0.0297, -0.0453],\n",
      "        [ 0.0299, -0.0410, -0.0220,  ...,  0.0497, -0.0883, -0.0365]],\n",
      "       requires_grad=True)\n",
      "Parameter containing:\n",
      "tensor([ 0.0508,  0.0025, -0.0218,  ..., -0.0687,  0.0536,  0.0349],\n",
      "       requires_grad=True)\n",
      "Parameter containing:\n",
      "tensor([[[ 0.0378, -0.1812,  0.2955,  ...,  0.0241, -0.0795,  0.2353],\n",
      "         [ 0.1926,  0.0415, -0.1873,  ..., -0.2434, -0.1944,  0.2228],\n",
      "         [ 0.1601,  0.0847, -0.1804,  ..., -0.0620,  0.0917, -0.2366],\n",
      "         ...,\n",
      "         [-0.0379, -0.0327, -0.2704,  ..., -0.1111,  0.1070,  0.2531],\n",
      "         [ 0.0085, -0.2851,  0.2162,  ...,  0.3155,  0.3503,  0.3518],\n",
      "         [ 0.2881,  0.2036,  0.2392,  ...,  0.0113,  0.2538, -0.2634]],\n",
      "\n",
      "        [[ 0.0503,  0.2216, -0.2318,  ..., -0.1232, -0.2592,  0.0331],\n",
      "         [ 0.1793,  0.3165, -0.1435,  ...,  0.1442, -0.2382,  0.1719],\n",
      "         [-0.3413, -0.2836, -0.0867,  ..., -0.2666,  0.1565,  0.0479],\n",
      "         ...,\n",
      "         [-0.0424, -0.0701,  0.1665,  ...,  0.0529, -0.2107,  0.2250],\n",
      "         [ 0.2817,  0.0307,  0.2233,  ...,  0.1723, -0.3185,  0.2542],\n",
      "         [-0.1281,  0.2037, -0.3441,  ..., -0.0088,  0.3060,  0.3006]],\n",
      "\n",
      "        [[-0.1193,  0.2821,  0.3053,  ...,  0.2768,  0.0829, -0.3519],\n",
      "         [ 0.2936,  0.2344,  0.1468,  ..., -0.3520,  0.2322,  0.2392],\n",
      "         [ 0.0838,  0.0191,  0.2616,  ..., -0.3184,  0.2448,  0.0209],\n",
      "         ...,\n",
      "         [-0.0991, -0.0378, -0.0150,  ...,  0.0672,  0.0773, -0.2637],\n",
      "         [ 0.3208, -0.0165, -0.3241,  ..., -0.2353, -0.1752, -0.0037],\n",
      "         [ 0.0075, -0.0634, -0.2016,  ..., -0.0755, -0.2772,  0.2078]],\n",
      "\n",
      "        ...,\n",
      "\n",
      "        [[ 0.0006,  0.2274,  0.0145,  ...,  0.1035,  0.0862, -0.2692],\n",
      "         [-0.2667,  0.0311,  0.3513,  ...,  0.0449, -0.1761, -0.3262],\n",
      "         [-0.3240,  0.0144,  0.2867,  ...,  0.3344, -0.3462,  0.2521],\n",
      "         ...,\n",
      "         [ 0.0666,  0.0524,  0.1731,  ...,  0.0790,  0.0642,  0.0562],\n",
      "         [ 0.0815,  0.2597,  0.2935,  ...,  0.2676,  0.1677,  0.3380],\n",
      "         [-0.1541,  0.3421, -0.0544,  ..., -0.1938,  0.2408,  0.1986]],\n",
      "\n",
      "        [[-0.1002, -0.0190, -0.0370,  ...,  0.1232, -0.0449, -0.0437],\n",
      "         [-0.1222, -0.0883, -0.1221,  ..., -0.1908, -0.2424, -0.3450],\n",
      "         [-0.0800, -0.0056, -0.1407,  ..., -0.3220, -0.0691,  0.0812],\n",
      "         ...,\n",
      "         [ 0.3465,  0.2189,  0.2039,  ...,  0.2932, -0.2097,  0.3203],\n",
      "         [ 0.2818, -0.1925,  0.0482,  ..., -0.3330,  0.2768,  0.0931],\n",
      "         [ 0.1404,  0.2299, -0.2547,  ..., -0.3379,  0.2492,  0.3530]],\n",
      "\n",
      "        [[ 0.0437, -0.3118,  0.3442,  ...,  0.3207,  0.1380,  0.1217],\n",
      "         [-0.0257, -0.0579, -0.1467,  ...,  0.0721,  0.2449,  0.3465],\n",
      "         [ 0.2938,  0.2015,  0.3197,  ..., -0.0249, -0.2254, -0.0784],\n",
      "         ...,\n",
      "         [ 0.0957, -0.1945,  0.2915,  ...,  0.0460,  0.0691, -0.0608],\n",
      "         [ 0.1380, -0.3089, -0.2419,  ..., -0.0641,  0.3186, -0.1723],\n",
      "         [ 0.0125, -0.2033,  0.0727,  ...,  0.3201,  0.0745, -0.1810]]],\n",
      "       requires_grad=True)\n",
      "Parameter containing:\n",
      "tensor([[ 0.0703,  0.0228,  0.0228,  ..., -0.0013,  0.0407, -0.0293],\n",
      "        [ 0.0790,  0.0684, -0.0191,  ..., -0.0255, -0.0630, -0.0882],\n",
      "        [-0.0343, -0.0339,  0.0615,  ..., -0.0567,  0.0388, -0.0381],\n",
      "        ...,\n",
      "        [-0.0799, -0.0279, -0.0295,  ...,  0.0661, -0.0697, -0.0477],\n",
      "        [-0.0873, -0.0264,  0.0812,  ...,  0.0187,  0.0241,  0.0383],\n",
      "        [-0.0815,  0.0270,  0.0137,  ..., -0.0667,  0.0454, -0.0417]],\n",
      "       requires_grad=True)\n",
      "Parameter containing:\n",
      "tensor([ 0.0577, -0.0799, -0.0207, -0.0541,  0.0500, -0.0474,  0.0325, -0.0763,\n",
      "         0.0349,  0.0187,  0.0486,  0.0760, -0.0711,  0.0489,  0.0037,  0.0500,\n",
      "         0.0146,  0.0843, -0.0361,  0.0639,  0.0721, -0.0164, -0.0379,  0.0115,\n",
      "        -0.0392, -0.0159, -0.0546, -0.0079, -0.0822, -0.0225,  0.0384, -0.0230,\n",
      "        -0.0455, -0.0665, -0.0364, -0.0528, -0.0700, -0.0440,  0.0675, -0.0215,\n",
      "         0.0301,  0.0784, -0.0368,  0.0217,  0.0455,  0.0116,  0.0236,  0.0604,\n",
      "         0.0758,  0.0591,  0.0275,  0.0358, -0.0255,  0.0335,  0.0789,  0.0756,\n",
      "         0.0501, -0.0701,  0.0560, -0.0868,  0.0457,  0.0188,  0.0112, -0.0821,\n",
      "        -0.0128,  0.0171,  0.0723,  0.0168, -0.0545, -0.0376,  0.0400,  0.0753,\n",
      "        -0.0819,  0.0358,  0.0309,  0.0318, -0.0433, -0.0623, -0.0798, -0.0065,\n",
      "         0.0270,  0.0521, -0.0387, -0.0435,  0.0382, -0.0054,  0.0037,  0.0021,\n",
      "         0.0349,  0.0538,  0.0079, -0.0089,  0.0841, -0.0589,  0.0556,  0.0851,\n",
      "         0.0550, -0.0359,  0.0402,  0.0748, -0.0643, -0.0465, -0.0483, -0.0650,\n",
      "         0.0510, -0.0433,  0.0855, -0.0658,  0.0167,  0.0192,  0.0704, -0.0860,\n",
      "         0.0526, -0.0210,  0.0753,  0.0380, -0.0251,  0.0516,  0.0666, -0.0020,\n",
      "         0.0519, -0.0530,  0.0635, -0.0344,  0.0046,  0.0312, -0.0619, -0.0582],\n",
      "       requires_grad=True)\n",
      "Parameter containing:\n",
      "tensor([[ 5.2178e-02,  1.1246e-03, -3.9789e-02,  ...,  2.4260e-02,\n",
      "          9.6279e-04, -5.7194e-02],\n",
      "        [-5.5149e-02, -5.8535e-02, -7.4850e-03,  ..., -2.0561e-02,\n",
      "          4.9674e-05,  3.6640e-02],\n",
      "        [-1.2377e-02,  5.9043e-02, -3.0104e-02,  ...,  1.2569e-02,\n",
      "         -1.5892e-02, -5.4242e-02],\n",
      "        ...,\n",
      "        [-2.9763e-02,  2.9561e-02, -3.1793e-02,  ..., -2.2354e-02,\n",
      "          3.8274e-02,  1.9712e-02],\n",
      "        [ 1.5518e-02,  3.7889e-02, -2.9031e-02,  ...,  3.6321e-02,\n",
      "          1.2561e-02, -1.5227e-02],\n",
      "        [ 3.1962e-02,  3.2654e-02,  2.8377e-02,  ..., -2.8936e-02,\n",
      "          1.4754e-02, -5.1366e-02]], requires_grad=True)\n",
      "Parameter containing:\n",
      "tensor([-5.0246e-02,  4.6276e-02, -1.2305e-02,  5.5155e-02, -5.2746e-02,\n",
      "         3.8969e-02, -3.9472e-02, -2.7234e-02,  5.1055e-02, -3.6147e-02,\n",
      "         5.9621e-02,  5.1272e-02, -6.0633e-02,  6.0840e-02, -2.6102e-02,\n",
      "        -2.0408e-02, -1.2731e-02, -1.2592e-02,  6.3501e-03, -5.0808e-02,\n",
      "         1.3404e-02, -2.3693e-02,  1.0062e-02,  5.7998e-02,  1.2475e-02,\n",
      "        -3.4039e-02,  3.5605e-02, -4.1296e-02,  1.8466e-02,  6.3051e-03,\n",
      "        -2.6201e-02,  5.4302e-02,  2.5183e-02,  5.6846e-02, -4.7280e-02,\n",
      "        -1.5328e-02,  2.3430e-02, -4.1883e-02,  5.9056e-02, -2.1612e-02,\n",
      "         3.8534e-02,  5.5234e-02,  3.5770e-02, -2.2472e-03, -1.7173e-02,\n",
      "        -1.4358e-02,  4.3474e-02,  2.1588e-02, -3.5410e-02,  5.2395e-02,\n",
      "         3.8892e-02, -7.6263e-03, -4.5970e-02,  4.7885e-02,  9.4284e-03,\n",
      "        -3.8281e-02, -5.4363e-02,  4.8670e-02,  4.0652e-02,  6.0857e-02,\n",
      "         4.2468e-02,  2.2121e-02,  1.2019e-02,  4.4591e-03, -4.4395e-02,\n",
      "         4.6081e-02,  5.6978e-02,  1.6446e-02,  1.9708e-02,  5.5022e-02,\n",
      "         1.7194e-02,  1.0283e-02, -4.1513e-02,  6.9649e-05, -3.7339e-02,\n",
      "         2.4479e-03, -5.3927e-02, -9.2048e-03, -2.5692e-02,  4.5885e-02,\n",
      "         1.1676e-03, -3.9482e-02,  5.8963e-02,  3.9278e-02,  1.2277e-02,\n",
      "         5.8120e-02,  1.3322e-02, -4.3152e-03,  3.4722e-02, -4.5571e-02,\n",
      "         1.0506e-02, -3.9640e-03,  5.3080e-02,  4.5669e-02,  2.5956e-02,\n",
      "         3.1835e-02, -8.9793e-03,  4.0238e-02, -8.2440e-03, -7.2562e-03,\n",
      "        -4.1263e-02,  4.3403e-02, -4.0491e-02,  1.5041e-03,  3.0887e-02,\n",
      "         3.3973e-02, -1.5305e-02,  5.8450e-02,  2.7004e-02,  5.8492e-02,\n",
      "        -3.4702e-02,  3.7555e-02, -5.5318e-02,  2.9422e-02,  1.9079e-02,\n",
      "         1.9409e-03,  4.6549e-02,  3.5217e-02,  2.9948e-02,  1.2140e-02,\n",
      "         2.4426e-02, -2.4611e-02,  3.5729e-02,  3.8877e-02, -1.1818e-02,\n",
      "        -3.2214e-02, -1.4312e-02,  2.6884e-02], requires_grad=True)\n"
     ]
    }
   ],
   "source": [
    "for p in model.parameters():\n",
    "    print(p)"
   ]
  },
  {
   "cell_type": "code",
   "execution_count": 21,
   "id": "a37ea610",
   "metadata": {},
   "outputs": [],
   "source": [
    "\n",
    "with torch.no_grad():\n",
    "    word_embedding_model.cls.module.transform.dense.weight = torch.nn.Parameter(x['cls.predictions.transform.dense.weight'])\n",
    "    word_embedding_model.cls.module.transform.dense.bias = torch.nn.Parameter(x['cls.predictions.transform.dense.bias'])\n",
    "    word_embedding_model.cls.module.transform.LayerNorm.weight = torch.nn.Parameter(x['cls.predictions.transform.LayerNorm.weight'])\n",
    "    word_embedding_model.cls.module.transform.LayerNorm.bias = torch.nn.Parameter(x['cls.predictions.transform.LayerNorm.bias'])\n",
    "    word_embedding_model.cls.module.bias = torch.nn.Parameter(x['cls.predictions.bias'].repeat(3))\n",
    "    word_embedding_model.cls.module.decoder.weight = torch.nn.Parameter(x['cls.predictions.decoder.weight'].repeat(3,1))\n",
    "    word_embedding_model.cls.module.decoder.bias = torch.nn.Parameter(x['cls.predictions.decoder.bias'].repeat(3))"
   ]
  },
  {
   "cell_type": "code",
   "execution_count": 22,
   "id": "bc46cfb9",
   "metadata": {},
   "outputs": [],
   "source": [
    "w3 = x['cls.predictions.decoder.weight'].repeat(3,1)"
   ]
  },
  {
   "cell_type": "code",
   "execution_count": 23,
   "id": "6e3048d5",
   "metadata": {},
   "outputs": [
    {
     "data": {
      "text/plain": [
       "torch.Size([91566, 768])"
      ]
     },
     "execution_count": 23,
     "metadata": {},
     "output_type": "execute_result"
    }
   ],
   "source": [
    "w3.shape"
   ]
  },
  {
   "cell_type": "code",
   "execution_count": 25,
   "id": "e2869cef",
   "metadata": {},
   "outputs": [],
   "source": [
    "op1 = w3.view(3, 30522, -1)"
   ]
  },
  {
   "cell_type": "code",
   "execution_count": 27,
   "id": "98db1973",
   "metadata": {},
   "outputs": [
    {
     "data": {
      "text/plain": [
       "tensor([[-0.0389, -0.0761, -0.0617,  ..., -0.0482, -0.0597, -0.0184],\n",
       "        [-0.0442, -0.0332,  0.0141,  ..., -0.0077, -0.0159, -0.0392],\n",
       "        [-0.0403, -0.0679,  0.0146,  ...,  0.0318, -0.0262,  0.0031],\n",
       "        ...,\n",
       "        [-0.0263, -0.0573, -0.0065,  ...,  0.0549, -0.0242, -0.0405],\n",
       "        [-0.0189, -0.0761,  0.0150,  ..., -0.0028, -0.0224, -0.0069],\n",
       "        [ 0.0124, -0.0798, -0.0331,  ..., -0.0126, -0.0744,  0.0577]],\n",
       "       device='cuda:0')"
      ]
     },
     "execution_count": 27,
     "metadata": {},
     "output_type": "execute_result"
    }
   ],
   "source": [
    "op1[0]"
   ]
  },
  {
   "cell_type": "code",
   "execution_count": 28,
   "id": "ed3dc8f6",
   "metadata": {},
   "outputs": [
    {
     "data": {
      "text/plain": [
       "tensor([[-0.0389, -0.0761, -0.0617,  ..., -0.0482, -0.0597, -0.0184],\n",
       "        [-0.0442, -0.0332,  0.0141,  ..., -0.0077, -0.0159, -0.0392],\n",
       "        [-0.0403, -0.0679,  0.0146,  ...,  0.0318, -0.0262,  0.0031],\n",
       "        ...,\n",
       "        [-0.0263, -0.0573, -0.0065,  ...,  0.0549, -0.0242, -0.0405],\n",
       "        [-0.0189, -0.0761,  0.0150,  ..., -0.0028, -0.0224, -0.0069],\n",
       "        [ 0.0124, -0.0798, -0.0331,  ..., -0.0126, -0.0744,  0.0577]],\n",
       "       device='cuda:0')"
      ]
     },
     "execution_count": 28,
     "metadata": {},
     "output_type": "execute_result"
    }
   ],
   "source": [
    "op1[1]"
   ]
  },
  {
   "cell_type": "code",
   "execution_count": 1,
   "id": "c2c3359f",
   "metadata": {},
   "outputs": [],
   "source": [
    "import torch\n",
    "a = torch.rand([4, 11, 30])\n",
    "a = a.repeat(1,1,3)"
   ]
  },
  {
   "cell_type": "code",
   "execution_count": 5,
   "id": "f007b3d5",
   "metadata": {},
   "outputs": [
    {
     "data": {
      "text/plain": [
       "tensor([[[True, True, True,  ..., True, True, True],\n",
       "         [True, True, True,  ..., True, True, True],\n",
       "         [True, True, True,  ..., True, True, True],\n",
       "         ...,\n",
       "         [True, True, True,  ..., True, True, True],\n",
       "         [True, True, True,  ..., True, True, True],\n",
       "         [True, True, True,  ..., True, True, True]],\n",
       "\n",
       "        [[True, True, True,  ..., True, True, True],\n",
       "         [True, True, True,  ..., True, True, True],\n",
       "         [True, True, True,  ..., True, True, True],\n",
       "         ...,\n",
       "         [True, True, True,  ..., True, True, True],\n",
       "         [True, True, True,  ..., True, True, True],\n",
       "         [True, True, True,  ..., True, True, True]],\n",
       "\n",
       "        [[True, True, True,  ..., True, True, True],\n",
       "         [True, True, True,  ..., True, True, True],\n",
       "         [True, True, True,  ..., True, True, True],\n",
       "         ...,\n",
       "         [True, True, True,  ..., True, True, True],\n",
       "         [True, True, True,  ..., True, True, True],\n",
       "         [True, True, True,  ..., True, True, True]],\n",
       "\n",
       "        [[True, True, True,  ..., True, True, True],\n",
       "         [True, True, True,  ..., True, True, True],\n",
       "         [True, True, True,  ..., True, True, True],\n",
       "         ...,\n",
       "         [True, True, True,  ..., True, True, True],\n",
       "         [True, True, True,  ..., True, True, True],\n",
       "         [True, True, True,  ..., True, True, True]]])"
      ]
     },
     "execution_count": 5,
     "metadata": {},
     "output_type": "execute_result"
    }
   ],
   "source": [
    "a[:,:,:30] == a[:,:,30:60]"
   ]
  },
  {
   "cell_type": "code",
   "execution_count": 2,
   "id": "135d5137",
   "metadata": {},
   "outputs": [],
   "source": [
    "x = a.reshape(4, 11, 3, -1)"
   ]
  },
  {
   "cell_type": "code",
   "execution_count": 3,
   "id": "8ae59a02",
   "metadata": {},
   "outputs": [
    {
     "data": {
      "text/plain": [
       "tensor([[[True, True, True,  ..., True, True, True],\n",
       "         [True, True, True,  ..., True, True, True],\n",
       "         [True, True, True,  ..., True, True, True],\n",
       "         ...,\n",
       "         [True, True, True,  ..., True, True, True],\n",
       "         [True, True, True,  ..., True, True, True],\n",
       "         [True, True, True,  ..., True, True, True]],\n",
       "\n",
       "        [[True, True, True,  ..., True, True, True],\n",
       "         [True, True, True,  ..., True, True, True],\n",
       "         [True, True, True,  ..., True, True, True],\n",
       "         ...,\n",
       "         [True, True, True,  ..., True, True, True],\n",
       "         [True, True, True,  ..., True, True, True],\n",
       "         [True, True, True,  ..., True, True, True]],\n",
       "\n",
       "        [[True, True, True,  ..., True, True, True],\n",
       "         [True, True, True,  ..., True, True, True],\n",
       "         [True, True, True,  ..., True, True, True],\n",
       "         ...,\n",
       "         [True, True, True,  ..., True, True, True],\n",
       "         [True, True, True,  ..., True, True, True],\n",
       "         [True, True, True,  ..., True, True, True]],\n",
       "\n",
       "        [[True, True, True,  ..., True, True, True],\n",
       "         [True, True, True,  ..., True, True, True],\n",
       "         [True, True, True,  ..., True, True, True],\n",
       "         ...,\n",
       "         [True, True, True,  ..., True, True, True],\n",
       "         [True, True, True,  ..., True, True, True],\n",
       "         [True, True, True,  ..., True, True, True]]])"
      ]
     },
     "execution_count": 3,
     "metadata": {},
     "output_type": "execute_result"
    }
   ],
   "source": [
    "x[:,:,0,:] == a[:,:,:30]"
   ]
  },
  {
   "cell_type": "code",
   "execution_count": 5,
   "id": "8cfb3845",
   "metadata": {},
   "outputs": [],
   "source": [
    "am = torch.argmax(x, dim=2)"
   ]
  },
  {
   "cell_type": "code",
   "execution_count": 7,
   "id": "0accf4e7",
   "metadata": {},
   "outputs": [],
   "source": [
    "x2 = torch.zeros_like(x).scatter_(1, am.unsqueeze(2), 1.) * x\n",
    "o = x2.view(x2.shape[0], x2.shape[1], -1)"
   ]
  },
  {
   "cell_type": "code",
   "execution_count": 9,
   "id": "e891111b",
   "metadata": {},
   "outputs": [
    {
     "data": {
      "text/plain": [
       "tensor([0.3933, 0.2250, 0.0223, 0.2238, 0.7119, 0.6751, 0.4491, 0.1983, 0.2791,\n",
       "        0.7427, 0.7661, 0.3680, 0.4497, 0.3924, 0.5574, 0.9438, 0.4204, 0.9841,\n",
       "        0.2322, 0.2142, 0.4433, 0.8441, 0.7767, 0.9172, 0.8728, 0.3125, 0.1217,\n",
       "        0.5486, 0.6127, 0.5870, 0.0000, 0.0000, 0.0000, 0.0000, 0.0000, 0.0000,\n",
       "        0.0000, 0.0000, 0.0000, 0.0000, 0.0000, 0.0000, 0.0000, 0.0000, 0.0000,\n",
       "        0.0000, 0.0000, 0.0000, 0.0000, 0.0000, 0.0000, 0.0000, 0.0000, 0.0000,\n",
       "        0.0000, 0.0000, 0.0000, 0.0000, 0.0000, 0.0000, 0.0000, 0.0000, 0.0000,\n",
       "        0.0000, 0.0000, 0.0000, 0.0000, 0.0000, 0.0000, 0.0000, 0.0000, 0.0000,\n",
       "        0.0000, 0.0000, 0.0000, 0.0000, 0.0000, 0.0000, 0.0000, 0.0000, 0.0000,\n",
       "        0.0000, 0.0000, 0.0000, 0.0000, 0.0000, 0.0000, 0.0000, 0.0000, 0.0000])"
      ]
     },
     "execution_count": 9,
     "metadata": {},
     "output_type": "execute_result"
    }
   ],
   "source": [
    "o[0,0,:]"
   ]
  },
  {
   "cell_type": "code",
   "execution_count": 8,
   "id": "690a9f6b",
   "metadata": {},
   "outputs": [],
   "source": [
    "a = torch.tensor([[[ 0,  1,  2,  3],\n",
    "        [ 4,  5,  6,  7],\n",
    "        [ 8,  9, 10, 11]],\n",
    "\n",
    "       [[12, 13, 14, 15],\n",
    "        [16, 17, 18, 19],\n",
    "        [20, 21, 22, 23]]])"
   ]
  },
  {
   "cell_type": "code",
   "execution_count": 11,
   "id": "4f2745e5",
   "metadata": {},
   "outputs": [
    {
     "data": {
      "text/plain": [
       "tensor([[[ 0,  1,  2,  3],\n",
       "         [ 4,  5,  6,  7]],\n",
       "\n",
       "        [[ 8,  9, 10, 11],\n",
       "         [12, 13, 14, 15]],\n",
       "\n",
       "        [[16, 17, 18, 19],\n",
       "         [20, 21, 22, 23]]])"
      ]
     },
     "execution_count": 11,
     "metadata": {},
     "output_type": "execute_result"
    }
   ],
   "source": [
    "a.view(3,8).view(3,2,4)"
   ]
  },
  {
   "cell_type": "code",
   "execution_count": null,
   "id": "e8b04e12",
   "metadata": {},
   "outputs": [],
   "source": []
  }
 ],
 "metadata": {
  "kernelspec": {
   "display_name": "splade",
   "language": "python",
   "name": "splade"
  },
  "language_info": {
   "codemirror_mode": {
    "name": "ipython",
    "version": 3
   },
   "file_extension": ".py",
   "mimetype": "text/x-python",
   "name": "python",
   "nbconvert_exporter": "python",
   "pygments_lexer": "ipython3",
   "version": "3.9.15"
  }
 },
 "nbformat": 4,
 "nbformat_minor": 5
}
