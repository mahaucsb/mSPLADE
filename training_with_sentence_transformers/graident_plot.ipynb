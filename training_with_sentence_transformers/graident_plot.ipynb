{
 "cells": [
  {
   "cell_type": "markdown",
   "metadata": {},
   "source": [
    "# split training queries by teacher model performance"
   ]
  },
  {
   "cell_type": "code",
   "execution_count": 7,
   "metadata": {},
   "outputs": [],
   "source": [
    "import os\n",
    "import gzip\n",
    "import pickle\n",
    "data_folder = '../../msmarco'\n",
    "\n",
    "ce_scores_file = os.path.join(data_folder, 'cross-encoder-ms-marco-MiniLM-L-6-v2-scores.pkl.gz')\n",
    "\n",
    "with gzip.open(ce_scores_file, 'rb') as fIn:\n",
    "    ce_scores = pickle.load(fIn)"
   ]
  },
  {
   "cell_type": "code",
   "execution_count": 2,
   "metadata": {},
   "outputs": [],
   "source": [
    "qrel_file = f\"../../msmarco/qrels.train.tsv\"\n",
    "from collections import defaultdict\n",
    "qrels = defaultdict(dict)\n",
    "with open(qrel_file) as f:\n",
    "    for line in f:\n",
    "        try:\n",
    "            qid, _, did, rel = line.strip().split(\"\\t\")\n",
    "        except:\n",
    "            qid, _, did, rel = line.strip().split(\" \")\n",
    "        if int(rel) > 0:\n",
    "            qrels[qid][did] = int(rel)"
   ]
  },
  {
   "cell_type": "code",
   "execution_count": 3,
   "metadata": {},
   "outputs": [],
   "source": [
    "import pytrec_eval\n",
    "from statistics import mean\n",
    "import scipy.stats as stats\n",
    "from collections import defaultdict\n",
    "VALIDATION_METRIC = 'recip_rank' \n",
    "\n",
    "trec_eval = pytrec_eval.RelevanceEvaluator(qrels, {VALIDATION_METRIC})"
   ]
  },
  {
   "cell_type": "code",
   "execution_count": 4,
   "metadata": {},
   "outputs": [],
   "source": [
    "good_q = []\n",
    "bad_q = []\n",
    "\n",
    "for q in ce_scores:\n",
    "    ce_scores_str = defaultdict(dict)\n",
    "    ce_scores_str[str(q)] = {str(d): ce_scores[q][d] for d in ce_scores[q]}\n",
    "    eval_scores_teacher = trec_eval.evaluate(ce_scores_str)\n",
    "    if len(eval_scores_teacher) == 0:\n",
    "        continue\n",
    "    if eval_scores_teacher[str(q)][VALIDATION_METRIC] >= 0.5:\n",
    "        good_q.append(str(q))\n",
    "    elif eval_scores_teacher[str(q)][VALIDATION_METRIC] < 0.3 and eval_scores_teacher[str(q)][VALIDATION_METRIC] > 0.01:\n",
    "        bad_q.append(str(q))\n",
    "\n",
    "good_q = set(good_q)\n",
    "bad_q = set(bad_q)"
   ]
  },
  {
   "cell_type": "code",
   "execution_count": 5,
   "metadata": {},
   "outputs": [],
   "source": [
    "del qrels"
   ]
  },
  {
   "cell_type": "code",
   "execution_count": 9,
   "metadata": {},
   "outputs": [
    {
     "data": {
      "text/plain": [
       "2506701"
      ]
     },
     "execution_count": 9,
     "metadata": {},
     "output_type": "execute_result"
    }
   ],
   "source": [
    "import json\n",
    "open(\"../msmarco/teacher_good_q_0.5.json\", \"w\").write(json.dumps(list(good_q)))\n",
    "open(\"../msmarco/teacher_bad_q_0.3.json\", \"w\").write(json.dumps(list(bad_q)))"
   ]
  },
  {
   "cell_type": "markdown",
   "metadata": {},
   "source": [
    "## generate gradient"
   ]
  },
  {
   "cell_type": "code",
   "execution_count": 1,
   "metadata": {},
   "outputs": [],
   "source": [
    "import json\n",
    "bad_q = set(json.loads(open(\"../msmarco/teacher_good_q_0.5.json\").readline()))"
   ]
  },
  {
   "cell_type": "code",
   "execution_count": 2,
   "metadata": {},
   "outputs": [
    {
     "name": "stderr",
     "output_type": "stream",
     "text": [
      "502937it [00:14, 33628.23it/s]\n"
     ]
    }
   ],
   "source": [
    "import tqdm\n",
    "import json\n",
    "train_query_file = \"../../msmarco/training_queries/train_queries_distill_splade_colbert_0.json\"\n",
    "#train_queries_good = dict()\n",
    "train_queries_bad = dict()\n",
    "\n",
    "with open(train_query_file) as f: #training_queries_splade_max_156000_ceclean.json\n",
    "    for line in tqdm.tqdm(f):\n",
    "        qid = line.split(\"\\t\")[0]\n",
    "        '''\n",
    "        if qid in good_q:\n",
    "            train_queries_good[qid] = json.loads(line.split(\"\\t\")[1])\n",
    "\n",
    "            train_queries_good[qid]['neg'] = [x for x in train_queries_good[qid]['neg'] if x[0] <= 20]\n",
    "            if len(train_queries_good[line.split(\"\\t\")[0]]['neg']) == 0:\n",
    "                del train_queries_good[line.split(\"\\t\")[0]]\n",
    "                continue\n",
    "        '''\n",
    "        if qid in bad_q:\n",
    "            train_queries_bad[qid] = json.loads(line.split(\"\\t\")[1])\n",
    "\n",
    "            train_queries_bad[qid]['neg'] = [x for x in train_queries_bad[qid]['neg'] if x[0] <= 20]\n",
    "            if len(train_queries_bad[line.split(\"\\t\")[0]]['neg']) == 0:\n",
    "                del train_queries_bad[line.split(\"\\t\")[0]]\n",
    "                continue\n"
   ]
  },
  {
   "cell_type": "code",
   "execution_count": 3,
   "metadata": {},
   "outputs": [],
   "source": [
    "#FROM Sentence-BERT(https://github.com/UKPLab/sentence-transformers/blob/afee883a17ab039120783fd0cffe09ea979233cf/examples/training/ms_marco/train_bi-encoder_margin-mse.py) with minimal changes.\n",
    "#Original License Apache2, NOTE: Trained MSMARCO models are NonCommercial (from dataset License)\n",
    "\n",
    "import sys\n",
    "import json\n",
    "from torch.utils.data import DataLoader\n",
    "from sentence_transformers import SentenceTransformer, LoggingHandler, util, evaluation, InputExample\n",
    "from sbert import SentenceTransformerA\n",
    "import models\n",
    "import logging\n",
    "from datetime import datetime\n",
    "import gzip\n",
    "import os\n",
    "import tarfile\n",
    "import tqdm\n",
    "from torch.utils.data import Dataset\n",
    "import random\n",
    "from shutil import copyfile\n",
    "import pickle\n",
    "import argparse\n",
    "import losses\n",
    "import torch\n",
    "from collections import defaultdict\n",
    "from data import MSMARCODataset\n",
    "from evaluate_training import evaluate_trainining\n",
    "import transformers\n",
    "#from colbert_model import DETeacher\n",
    "\n",
    "\n",
    "data_folder = '../../msmarco'\n",
    "\n",
    "#### Read the corpus file containing all the passages. Store them in the corpus dict\n",
    "corpus = {}  # dict in the format: passage_id -> passage. Stores all existing passages\n",
    "collection_filepath = os.path.join(data_folder, 'collection.tsv')\n",
    "\n",
    "\n",
    "with open(collection_filepath, 'r', encoding='utf8') as fIn:\n",
    "    for line in fIn:\n",
    "        pid, passage = line.strip().split(\"\\t\")\n",
    "        pid = int(pid)\n",
    "        corpus[pid] = passage\n",
    "\n",
    "### Read the train queries, store in queries dict\n",
    "\n",
    "queries = {}  # dict in the format: query_id -> query. Stores all training queries\n",
    "queries_filepath = os.path.join(data_folder, 'queries.train.tsv')\n",
    "\n",
    "with open(queries_filepath, 'r', encoding='utf8') as fIn:\n",
    "    for line in fIn:\n",
    "        qid, query = line.strip().split(\"\\t\")\n",
    "        qid = int(qid)\n",
    "        queries[qid] = query\n",
    "\n",
    "        \n",
    "ce_scores_file = os.path.join(data_folder, 'cross-encoder-ms-marco-MiniLM-L-6-v2-scores.pkl.gz')\n",
    "\n",
    "with gzip.open(ce_scores_file, 'rb') as fIn:\n",
    "    ce_scores = pickle.load(fIn)"
   ]
  },
  {
   "cell_type": "code",
   "execution_count": 4,
   "metadata": {},
   "outputs": [],
   "source": [
    "#model_name = \"output/colbert_splade_distill_num1_kldiv_position_mrr_diff_alpha0.0_denoiseFalse_num20_kldiv_position5-lr1e-05-batch_size_8x4-2022-10-22/100000/0_ColBERTTransformer\"\n",
    "#model_name = \"output/colbert_splade_distill_num1_kldiv_focal_default_gamma5.0_denoiseFalse_num20_kldiv_focal5-lr1e-05-batch_size_8x4-2022-10-30/100000/0_ColBERTTransformer\"\n",
    "\n",
    "#model_name = \"output/colbert_splade_distill_num1_kldiv_multipos_focal_default_alpha0.2_denoiseFalse_num20_kldiv_multipos_focal5-lr1e-05-batch_size_8x4-2022-11-10/10/0_ColBERTTransformer\"\n",
    "#model_name = \"output/colbert_splade_distill_num1_kldiv_multipos_focal_default_alpha0.2_denoiseFalse_num20_kldiv_multipos_focal5-lr1e-05-batch_size_8x4-2022-11-09/1000/0_ColBERTTransformer\"\n",
    "\n",
    "#model_name = \"output/colbert_splade_distill_num1_kldiv_multipos_focal_default_alpha0.2_denoiseFalse_num20_kldiv_multipos_focal5-lr1e-05-batch_size_8x4-2022-11-10/10/0_ColBERTTransformer\"\n",
    "\n",
    "model_name = \"output/colbert_splade_distill_num1_kldiv_multipos_focal_default_alpha0.2_denoiseFalse_num20_kldiv_multipos_focal5-lr1e-05-batch_size_8x4-2022-11-09/10000/0_ColBERTTransformer\"\n",
    "#model_name = \"output/colbert_splade_distill_num1_kldiv_multipos_default_alpha0.2_denoiseFalse_num20_kldiv_multipos5-lr1e-05-batch_size_8x4-2022-11-09/10000/0_ColBERTTransformer\"\n",
    "\n",
    "\n",
    "\n",
    "word_embedding_model = models.ColBERTTransformer(model_name, max_seq_length=256)\n",
    "checkpoint = torch.load(os.path.join(model_name, \"checkpoint.pt\"), map_location='cpu')\n",
    "word_embedding_model.load_state_dict(checkpoint)\n",
    "word_embedding_model.to('cuda')\n",
    "model = SentenceTransformerA(modules=[word_embedding_model])\n"
   ]
  },
  {
   "cell_type": "code",
   "execution_count": 5,
   "metadata": {},
   "outputs": [],
   "source": [
    "# For training the SentenceTransformer model, we need a dataset, a dataloader, and a loss used for training.\n",
    "train_dataset = MSMARCODataset(queries=train_queries_bad, corpus=corpus, ce_scores=ce_scores, loss_type=\"kldiv_focal\", num_neg=5, topk = 20)\n",
    "train_dataloader = DataLoader(train_dataset, shuffle=False, batch_size=4, drop_last=True)\n",
    "train_dataloader.collate_fn = model.smart_batching_collate\n",
    "data_iterator = iter(train_dataloader)"
   ]
  },
  {
   "cell_type": "code",
   "execution_count": 6,
   "metadata": {},
   "outputs": [
    {
     "data": {
      "text/plain": [
       "KLDivLossColBERT(\n",
       "  (model): SentenceTransformerA(\n",
       "    (0): MLMTransformer({'max_seq_length': 256, 'do_lower_case': False}) with Transformer model: DataParallel \n",
       "  )\n",
       "  (loss_fct): KLDivLoss()\n",
       ")"
      ]
     },
     "execution_count": 6,
     "metadata": {},
     "output_type": "execute_result"
    }
   ],
   "source": [
    "\n",
    "#train_loss = losses.KLDivLossColBERT(model=model)\n",
    "train_loss = losses.KLDivLossColBERT(model=model, focal=True, gamma = 5.0)\n",
    "'''\n",
    "elif args.loss_type == 'kldiv_ib':\n",
    "    train_loss = losses.KLDivLossColBERTInBatch(model=model, inbatch_p = args.ib_p)\n",
    "elif args.loss_type == \"kldiv_focal\":\n",
    "    train_loss = losses.KLDivLossColBERT(model=model, focal=True, gamma = args.gamma)\n",
    "elif args.loss_type == \"kldiv_position_focal\":\n",
    "    train_loss = losses.KLDivLossColBERT(model=model, scaled = True, focal=True, gamma = args.gamma, alpha = args.alpha)\n",
    "else:\n",
    "    raise \"Unknown loss!\"\n",
    "'''\n",
    "# Prepare optimizer and schedule (linear warmup and decay)\n",
    "no_decay = ['bias', 'LayerNorm.bias', 'LayerNorm.weight']\n",
    "param_optimizer = list(train_loss.named_parameters())\n",
    "optimizer_grouped_parameters = [\n",
    "        {'params': [p for n, p in param_optimizer if not any(nd in n for nd in no_decay)], 'weight_decay': 0.01},\n",
    "        {'params': [p for n, p in param_optimizer if any(nd in n for nd in no_decay)], 'weight_decay': 0.0}\n",
    "    ]\n",
    "train_loss.train()"
   ]
  },
  {
   "cell_type": "code",
   "execution_count": 7,
   "metadata": {},
   "outputs": [
    {
     "name": "stderr",
     "output_type": "stream",
     "text": [
      "  0%|                                                                                                                                                                    | 0/46550 [00:00<?, ?it/s]/home/ec2-user/efs/splade_cls/training_with_sentence_transformers/data.py:105: UserWarning: Implicit dimension choice for log_softmax has been deprecated. Change the call to include dim=X as an argument.\n",
      "  target_score = torch.nn.functional.log_softmax(target_score)\n",
      " 21%|████████████████████████████████▏                                                                                                                     | 10000/46550 [33:34<2:02:41,  4.96it/s]\n"
     ]
    }
   ],
   "source": [
    "gradients = []\n",
    "i = 0\n",
    "for data in tqdm.tqdm(data_iterator):\n",
    "    train_loss.zero_grad()\n",
    "    if i == 10000:\n",
    "        break\n",
    "    i += 1\n",
    "    features, labels = data\n",
    "    loss_value = train_loss(features, labels)\n",
    "    loss_value.backward()\n",
    "    gradients.append(model[0].linear.weight.grad.norm(2).tolist())"
   ]
  },
  {
   "cell_type": "code",
   "execution_count": 8,
   "metadata": {},
   "outputs": [
    {
     "data": {
      "text/plain": [
       "213499"
      ]
     },
     "execution_count": 8,
     "metadata": {},
     "output_type": "execute_result"
    }
   ],
   "source": [
    "open(\"gradient_klfr_10k_temp_good_sample10k.json\",\"w\").write(json.dumps(gradients))\n",
    "#open(\"gradient_klfr2.0_1k_good_sample1000.json\",\"w\").write(json.dumps(gradients))"
   ]
  },
  {
   "cell_type": "code",
   "execution_count": 6,
   "metadata": {},
   "outputs": [
    {
     "ename": "NameError",
     "evalue": "name 'loss_value' is not defined",
     "output_type": "error",
     "traceback": [
      "\u001b[0;31m---------------------------------------------------------------------------\u001b[0m",
      "\u001b[0;31mNameError\u001b[0m                                 Traceback (most recent call last)",
      "\u001b[0;32m/tmp/ipykernel_6295/1548201354.py\u001b[0m in \u001b[0;36m<module>\u001b[0;34m\u001b[0m\n\u001b[0;32m----> 1\u001b[0;31m \u001b[0mloss_value\u001b[0m\u001b[0;34m\u001b[0m\u001b[0;34m\u001b[0m\u001b[0m\n\u001b[0m",
      "\u001b[0;31mNameError\u001b[0m: name 'loss_value' is not defined"
     ]
    }
   ],
   "source": [
    "loss_value"
   ]
  },
  {
   "cell_type": "markdown",
   "metadata": {},
   "source": [
    "## plot"
   ]
  },
  {
   "cell_type": "code",
   "execution_count": 2,
   "metadata": {},
   "outputs": [
    {
     "ename": "FileNotFoundError",
     "evalue": "[Errno 2] No such file or directory: 'gradient_kldiv_1k_good_sample10k.json'",
     "output_type": "error",
     "traceback": [
      "\u001b[0;31m---------------------------------------------------------------------------\u001b[0m",
      "\u001b[0;31mFileNotFoundError\u001b[0m                         Traceback (most recent call last)",
      "\u001b[0;32m/tmp/ipykernel_3967564/272026922.py\u001b[0m in \u001b[0;36m<module>\u001b[0;34m\u001b[0m\n\u001b[1;32m      1\u001b[0m \u001b[0;32mimport\u001b[0m \u001b[0mjson\u001b[0m\u001b[0;34m\u001b[0m\u001b[0;34m\u001b[0m\u001b[0m\n\u001b[0;32m----> 2\u001b[0;31m \u001b[0mgrad_kldiv\u001b[0m \u001b[0;34m=\u001b[0m \u001b[0mjson\u001b[0m\u001b[0;34m.\u001b[0m\u001b[0mloads\u001b[0m\u001b[0;34m(\u001b[0m\u001b[0mopen\u001b[0m\u001b[0;34m(\u001b[0m\u001b[0;34m\"gradient_kldiv_1k_good_sample10k.json\"\u001b[0m\u001b[0;34m)\u001b[0m\u001b[0;34m.\u001b[0m\u001b[0mreadline\u001b[0m\u001b[0;34m(\u001b[0m\u001b[0;34m)\u001b[0m\u001b[0;34m)\u001b[0m\u001b[0;34m\u001b[0m\u001b[0;34m\u001b[0m\u001b[0m\n\u001b[0m\u001b[1;32m      3\u001b[0m \u001b[0;31m#grad_kldiv = gradients\u001b[0m\u001b[0;34m\u001b[0m\u001b[0;34m\u001b[0m\u001b[0m\n\u001b[1;32m      4\u001b[0m \u001b[0mgrad_klfr\u001b[0m \u001b[0;34m=\u001b[0m \u001b[0mjson\u001b[0m\u001b[0;34m.\u001b[0m\u001b[0mloads\u001b[0m\u001b[0;34m(\u001b[0m\u001b[0mopen\u001b[0m\u001b[0;34m(\u001b[0m\u001b[0;34m\"gradient_klfr_1k_good_sample10k.json\"\u001b[0m\u001b[0;34m)\u001b[0m\u001b[0;34m.\u001b[0m\u001b[0mreadline\u001b[0m\u001b[0;34m(\u001b[0m\u001b[0;34m)\u001b[0m\u001b[0;34m)\u001b[0m\u001b[0;34m\u001b[0m\u001b[0;34m\u001b[0m\u001b[0m\n\u001b[1;32m      5\u001b[0m \u001b[0mgrad_kldivg\u001b[0m \u001b[0;34m=\u001b[0m \u001b[0mjson\u001b[0m\u001b[0;34m.\u001b[0m\u001b[0mloads\u001b[0m\u001b[0;34m(\u001b[0m\u001b[0mopen\u001b[0m\u001b[0;34m(\u001b[0m\u001b[0;34m\"gradient_kldiv_100k_good_sample1000.json\"\u001b[0m\u001b[0;34m)\u001b[0m\u001b[0;34m.\u001b[0m\u001b[0mreadline\u001b[0m\u001b[0;34m(\u001b[0m\u001b[0;34m)\u001b[0m\u001b[0;34m)\u001b[0m\u001b[0;34m\u001b[0m\u001b[0;34m\u001b[0m\u001b[0m\n",
      "\u001b[0;31mFileNotFoundError\u001b[0m: [Errno 2] No such file or directory: 'gradient_kldiv_1k_good_sample10k.json'"
     ]
    }
   ],
   "source": [
    "import json\n",
    "grad_kldiv = json.loads(open(\"gradient_kldiv_1k_good_sample10k.json\").readline())\n",
    "#grad_kldiv = gradients\n",
    "grad_klfr = json.loads(open(\"gradient_klfr_1k_good_sample10k.json\").readline())\n",
    "grad_kldivg = json.loads(open(\"gradient_kldiv_100k_good_sample1000.json\").readline())\n",
    "grad_klfrg = json.loads(open(\"gradient_klfr_100k_good_sample1000.json\").readline())"
   ]
  },
  {
   "cell_type": "code",
   "execution_count": null,
   "metadata": {},
   "outputs": [],
   "source": []
  },
  {
   "cell_type": "code",
   "execution_count": 15,
   "metadata": {},
   "outputs": [
    {
     "data": {
      "text/plain": [
       "0.22531698748264462"
      ]
     },
     "execution_count": 15,
     "metadata": {},
     "output_type": "execute_result"
    }
   ],
   "source": [
    "np.mean(grad_kldiv)"
   ]
  },
  {
   "cell_type": "code",
   "execution_count": 16,
   "metadata": {},
   "outputs": [
    {
     "data": {
      "text/plain": [
       "0.061464603052187455"
      ]
     },
     "execution_count": 16,
     "metadata": {},
     "output_type": "execute_result"
    }
   ],
   "source": [
    "np.mean(grad_klfr)"
   ]
  },
  {
   "cell_type": "code",
   "execution_count": 11,
   "metadata": {},
   "outputs": [
    {
     "data": {
      "text/plain": [
       "<matplotlib.legend.Legend at 0x7fb310088ac0>"
      ]
     },
     "execution_count": 11,
     "metadata": {},
     "output_type": "execute_result"
    },
    {
     "data": {
      "image/png": "[encoded data removed]",
      "text/plain": [
       "<Figure size 432x288 with 1 Axes>"
      ]
     },
     "metadata": {
      "needs_background": "light"
     },
     "output_type": "display_data"
    }
   ],
   "source": [
    "\n",
    "# Implementation of matplotlib function\n",
    "\n",
    "import numpy as np\n",
    "import matplotlib.pyplot as plt\n",
    "from matplotlib.patches import Rectangle\n",
    "low = \"blue\"\n",
    "medium = \"orange\"\n",
    "high = \"green\"\n",
    "nbin = 100\n",
    "counts, bins = np.histogram(grad_kldiv,bins=nbin)\n",
    "plt.hist(bins[:-1], bins, weights=counts, color = low, alpha=0.5)\n",
    "counts2, bins2 = np.histogram(grad_klfr, bins=nbin)\n",
    "plt.hist(bins2[:-1], bins2, weights=counts2, color = medium, alpha=0.5)\n",
    "'''\n",
    "counts3, bins3 = np.histogram(klfrwdiff, bins=30)\n",
    "plt.hist(bins3[:-1], bins3, weights=counts, color = high, alpha=0.5)\n",
    "'''\n",
    "plt.xlim(0,1)\n",
    "handles = [Rectangle((0,0),1,1,color=c,ec=\"k\") for c in [low,medium]]\n",
    "labels= [\"kldiv\",\"kldivfr\"]\n",
    "plt.legend(handles, labels)"
   ]
  },
  {
   "cell_type": "code",
   "execution_count": 17,
   "metadata": {},
   "outputs": [
    {
     "name": "stderr",
     "output_type": "stream",
     "text": [
      "/tmp/ipykernel_6295/3770396452.py:9: UserWarning: \n",
      "\n",
      "`distplot` is a deprecated function and will be removed in seaborn v0.14.0.\n",
      "\n",
      "Please adapt your code to use either `displot` (a figure-level function with\n",
      "similar flexibility) or `histplot` (an axes-level function for histograms).\n",
      "\n",
      "For a guide to updating your code to use the new functions, please see\n",
      "https://gist.github.com/mwaskom/de44147ed2974457ad6372750bbe5751\n",
      "\n",
      "  sns.distplot(grad_bad_10, hist=True, kde=True,\n",
      "/tmp/ipykernel_6295/3770396452.py:14: UserWarning: \n",
      "\n",
      "`distplot` is a deprecated function and will be removed in seaborn v0.14.0.\n",
      "\n",
      "Please adapt your code to use either `displot` (a figure-level function with\n",
      "similar flexibility) or `histplot` (an axes-level function for histograms).\n",
      "\n",
      "For a guide to updating your code to use the new functions, please see\n",
      "https://gist.github.com/mwaskom/de44147ed2974457ad6372750bbe5751\n",
      "\n",
      "  sns.distplot(grad_bad_1k, hist=True, kde=True,\n",
      "/tmp/ipykernel_6295/3770396452.py:19: UserWarning: \n",
      "\n",
      "`distplot` is a deprecated function and will be removed in seaborn v0.14.0.\n",
      "\n",
      "Please adapt your code to use either `displot` (a figure-level function with\n",
      "similar flexibility) or `histplot` (an axes-level function for histograms).\n",
      "\n",
      "For a guide to updating your code to use the new functions, please see\n",
      "https://gist.github.com/mwaskom/de44147ed2974457ad6372750bbe5751\n",
      "\n",
      "  sns.distplot(grad_bad_100k, hist=True, kde=True,\n"
     ]
    },
    {
     "data": {
      "text/plain": [
       "(0.0, 0.25)"
      ]
     },
     "execution_count": 17,
     "metadata": {},
     "output_type": "execute_result"
    },
    {
     "data": {
      "image/png": "[encoded data removed]",
      "text/plain": [
       "<Figure size 432x288 with 1 Axes>"
      ]
     },
     "metadata": {
      "needs_background": "light"
     },
     "output_type": "display_data"
    }
   ],
   "source": [
    "import seaborn as sns\n",
    "\n",
    "import json\n",
    "grad_bad_10 = json.loads(open(\"gradient_klfr_10_bad_sample1000.json\").readline())\n",
    "grad_bad_1k = json.loads(open(\"gradient_klfr_1k_bad_sample1000.json\").readline())\n",
    "grad_bad_100k = json.loads(open(\"gradient_klfr_100k_bad_sample1000.json\").readline())\n",
    "\n",
    "\n",
    "sns.distplot(grad_bad_10, hist=True, kde=True, \n",
    "             bins=nbin, color = 'white', \n",
    "             hist_kws={'edgecolor':'white'},\n",
    "             kde_kws={'linewidth': 2, \"color\": 'darkblue'})\n",
    "\n",
    "sns.distplot(grad_bad_1k, hist=True, kde=True, \n",
    "             bins=nbin, color = 'white', \n",
    "             hist_kws={'edgecolor':'white'},\n",
    "             kde_kws={'linewidth': 2, \"color\": 'darkred'})\n",
    "\n",
    "sns.distplot(grad_bad_100k, hist=True, kde=True, \n",
    "             bins=nbin, color = 'white', \n",
    "             hist_kws={'edgecolor':'white'},\n",
    "             kde_kws={'linewidth': 2, \"color\": 'darkgreen'})\n",
    "\n",
    "plt.xlim(0,0.25)"
   ]
  },
  {
   "cell_type": "code",
   "execution_count": 18,
   "metadata": {},
   "outputs": [
    {
     "name": "stderr",
     "output_type": "stream",
     "text": [
      "/tmp/ipykernel_6295/1888943965.py:9: UserWarning: \n",
      "\n",
      "`distplot` is a deprecated function and will be removed in seaborn v0.14.0.\n",
      "\n",
      "Please adapt your code to use either `displot` (a figure-level function with\n",
      "similar flexibility) or `histplot` (an axes-level function for histograms).\n",
      "\n",
      "For a guide to updating your code to use the new functions, please see\n",
      "https://gist.github.com/mwaskom/de44147ed2974457ad6372750bbe5751\n",
      "\n",
      "  sns.distplot(grad_bad_10, hist=True, kde=True,\n",
      "/tmp/ipykernel_6295/1888943965.py:14: UserWarning: \n",
      "\n",
      "`distplot` is a deprecated function and will be removed in seaborn v0.14.0.\n",
      "\n",
      "Please adapt your code to use either `displot` (a figure-level function with\n",
      "similar flexibility) or `histplot` (an axes-level function for histograms).\n",
      "\n",
      "For a guide to updating your code to use the new functions, please see\n",
      "https://gist.github.com/mwaskom/de44147ed2974457ad6372750bbe5751\n",
      "\n",
      "  sns.distplot(grad_bad_10k, hist=True, kde=True,\n",
      "/tmp/ipykernel_6295/1888943965.py:19: UserWarning: \n",
      "\n",
      "`distplot` is a deprecated function and will be removed in seaborn v0.14.0.\n",
      "\n",
      "Please adapt your code to use either `displot` (a figure-level function with\n",
      "similar flexibility) or `histplot` (an axes-level function for histograms).\n",
      "\n",
      "For a guide to updating your code to use the new functions, please see\n",
      "https://gist.github.com/mwaskom/de44147ed2974457ad6372750bbe5751\n",
      "\n",
      "  sns.distplot(grad_bad_100k, hist=True, kde=True,\n"
     ]
    },
    {
     "data": {
      "text/plain": [
       "(-0.15, 0.25)"
      ]
     },
     "execution_count": 18,
     "metadata": {},
     "output_type": "execute_result"
    },
    {
     "data": {
      "image/png": "[encoded data removed]",
      "text/plain": [
       "<Figure size 432x288 with 1 Axes>"
      ]
     },
     "metadata": {
      "needs_background": "light"
     },
     "output_type": "display_data"
    }
   ],
   "source": [
    "import seaborn as sns\n",
    "\n",
    "import json\n",
    "grad_bad_10 = json.loads(open(\"gradient_klfr_10_good_sample1000.json\").readline())\n",
    "grad_bad_10k = json.loads(open(\"gradient_klfr_1k_good_sample1000.json\").readline())\n",
    "grad_bad_100k = json.loads(open(\"gradient_klfr_100k_good_sample1000.json\").readline())\n",
    "\n",
    "\n",
    "sns.distplot(grad_bad_10, hist=True, kde=True, \n",
    "             bins=nbin, color = 'white', \n",
    "             hist_kws={'edgecolor':'white'},\n",
    "             kde_kws={'linewidth': 2, \"color\": 'darkblue'})\n",
    "\n",
    "sns.distplot(grad_bad_10k, hist=True, kde=True, \n",
    "             bins=nbin, color = 'white', \n",
    "             hist_kws={'edgecolor':'white'},\n",
    "             kde_kws={'linewidth': 2, \"color\": 'darkred'})\n",
    "\n",
    "sns.distplot(grad_bad_100k, hist=True, kde=True, \n",
    "             bins=nbin, color = 'white', \n",
    "             hist_kws={'edgecolor':'white'},\n",
    "             kde_kws={'linewidth': 2, \"color\": 'darkgreen'})\n",
    "\n",
    "plt.xlim(-0.15,0.25)"
   ]
  },
  {
   "cell_type": "code",
   "execution_count": 21,
   "metadata": {},
   "outputs": [
    {
     "name": "stderr",
     "output_type": "stream",
     "text": [
      "/tmp/ipykernel_6051/620015970.py:9: UserWarning: \n",
      "\n",
      "`distplot` is a deprecated function and will be removed in seaborn v0.14.0.\n",
      "\n",
      "Please adapt your code to use either `displot` (a figure-level function with\n",
      "similar flexibility) or `histplot` (an axes-level function for histograms).\n",
      "\n",
      "For a guide to updating your code to use the new functions, please see\n",
      "https://gist.github.com/mwaskom/de44147ed2974457ad6372750bbe5751\n",
      "\n",
      "  sns.distplot(grad_bad_10, hist=True, kde=True,\n",
      "/tmp/ipykernel_6051/620015970.py:14: UserWarning: \n",
      "\n",
      "`distplot` is a deprecated function and will be removed in seaborn v0.14.0.\n",
      "\n",
      "Please adapt your code to use either `displot` (a figure-level function with\n",
      "similar flexibility) or `histplot` (an axes-level function for histograms).\n",
      "\n",
      "For a guide to updating your code to use the new functions, please see\n",
      "https://gist.github.com/mwaskom/de44147ed2974457ad6372750bbe5751\n",
      "\n",
      "  sns.distplot(grad_bad_10k, hist=True, kde=True,\n",
      "/tmp/ipykernel_6051/620015970.py:19: UserWarning: \n",
      "\n",
      "`distplot` is a deprecated function and will be removed in seaborn v0.14.0.\n",
      "\n",
      "Please adapt your code to use either `displot` (a figure-level function with\n",
      "similar flexibility) or `histplot` (an axes-level function for histograms).\n",
      "\n",
      "For a guide to updating your code to use the new functions, please see\n",
      "https://gist.github.com/mwaskom/de44147ed2974457ad6372750bbe5751\n",
      "\n",
      "  sns.distplot(grad_bad_100k, hist=True, kde=True,\n"
     ]
    },
    {
     "data": {
      "text/plain": [
       "<AxesSubplot:ylabel='Density'>"
      ]
     },
     "execution_count": 21,
     "metadata": {},
     "output_type": "execute_result"
    },
    {
     "data": {
      "image/png": "[encoded data removed]",
      "text/plain": [
       "<Figure size 432x288 with 1 Axes>"
      ]
     },
     "metadata": {
      "needs_background": "light"
     },
     "output_type": "display_data"
    }
   ],
   "source": [
    "import seaborn as sns\n",
    "\n",
    "import json\n",
    "grad_bad_10 = json.loads(open(\"gradient_kldiv_10_good_sample1000.json\").readline())\n",
    "grad_bad_10k = json.loads(open(\"gradient_kldiv_1k_good_sample1000.json\").readline())\n",
    "grad_bad_100k = json.loads(open(\"gradient_kldiv_100k_good_sample1000.json\").readline())\n",
    "\n",
    "\n",
    "sns.distplot(grad_bad_10, hist=True, kde=True, \n",
    "             bins=nbin, color = 'white', \n",
    "             hist_kws={'edgecolor':'white'},\n",
    "             kde_kws={'linewidth': 2, \"color\": 'darkblue'})\n",
    "\n",
    "sns.distplot(grad_bad_10k, hist=True, kde=True, \n",
    "             bins=nbin, color = 'white', \n",
    "             hist_kws={'edgecolor':'white'},\n",
    "             kde_kws={'linewidth': 2, \"color\": 'darkred'})\n",
    "\n",
    "sns.distplot(grad_bad_100k, hist=True, kde=True, \n",
    "             bins=nbin, color = 'white', \n",
    "             hist_kws={'edgecolor':'white'},\n",
    "             kde_kws={'linewidth': 2, \"color\": 'darkgreen'})\n",
    "\n"
   ]
  },
  {
   "cell_type": "code",
   "execution_count": 22,
   "metadata": {},
   "outputs": [
    {
     "name": "stderr",
     "output_type": "stream",
     "text": [
      "/tmp/ipykernel_6051/475903383.py:9: UserWarning: \n",
      "\n",
      "`distplot` is a deprecated function and will be removed in seaborn v0.14.0.\n",
      "\n",
      "Please adapt your code to use either `displot` (a figure-level function with\n",
      "similar flexibility) or `histplot` (an axes-level function for histograms).\n",
      "\n",
      "For a guide to updating your code to use the new functions, please see\n",
      "https://gist.github.com/mwaskom/de44147ed2974457ad6372750bbe5751\n",
      "\n",
      "  sns.distplot(grad_bad_10, hist=True, kde=True,\n",
      "/tmp/ipykernel_6051/475903383.py:14: UserWarning: \n",
      "\n",
      "`distplot` is a deprecated function and will be removed in seaborn v0.14.0.\n",
      "\n",
      "Please adapt your code to use either `displot` (a figure-level function with\n",
      "similar flexibility) or `histplot` (an axes-level function for histograms).\n",
      "\n",
      "For a guide to updating your code to use the new functions, please see\n",
      "https://gist.github.com/mwaskom/de44147ed2974457ad6372750bbe5751\n",
      "\n",
      "  sns.distplot(grad_bad_10k, hist=True, kde=True,\n",
      "/tmp/ipykernel_6051/475903383.py:19: UserWarning: \n",
      "\n",
      "`distplot` is a deprecated function and will be removed in seaborn v0.14.0.\n",
      "\n",
      "Please adapt your code to use either `displot` (a figure-level function with\n",
      "similar flexibility) or `histplot` (an axes-level function for histograms).\n",
      "\n",
      "For a guide to updating your code to use the new functions, please see\n",
      "https://gist.github.com/mwaskom/de44147ed2974457ad6372750bbe5751\n",
      "\n",
      "  sns.distplot(grad_bad_100k, hist=True, kde=True,\n"
     ]
    },
    {
     "data": {
      "text/plain": [
       "<AxesSubplot:ylabel='Density'>"
      ]
     },
     "execution_count": 22,
     "metadata": {},
     "output_type": "execute_result"
    },
    {
     "data": {
      "image/png": "[encoded data removed]",
      "text/plain": [
       "<Figure size 432x288 with 1 Axes>"
      ]
     },
     "metadata": {
      "needs_background": "light"
     },
     "output_type": "display_data"
    }
   ],
   "source": [
    "import seaborn as sns\n",
    "\n",
    "import json\n",
    "grad_bad_10 = json.loads(open(\"gradient_kldiv_10_bad_sample1000.json\").readline())\n",
    "grad_bad_10k = json.loads(open(\"gradient_kldiv_1k_bad_sample1000.json\").readline())\n",
    "grad_bad_100k = json.loads(open(\"gradient_kldiv_100k_bad_sample1000.json\").readline())\n",
    "\n",
    "\n",
    "sns.distplot(grad_bad_10, hist=True, kde=True, \n",
    "             bins=nbin, color = 'white', \n",
    "             hist_kws={'edgecolor':'white'},\n",
    "             kde_kws={'linewidth': 2, \"color\": 'darkblue'})\n",
    "\n",
    "sns.distplot(grad_bad_10k, hist=True, kde=True, \n",
    "             bins=nbin, color = 'white', \n",
    "             hist_kws={'edgecolor':'white'},\n",
    "             kde_kws={'linewidth': 2, \"color\": 'darkred'})\n",
    "\n",
    "sns.distplot(grad_bad_100k, hist=True, kde=True, \n",
    "             bins=nbin, color = 'white', \n",
    "             hist_kws={'edgecolor':'white'},\n",
    "             kde_kws={'linewidth': 2, \"color\": 'darkgreen'})\n",
    "\n",
    "\n"
   ]
  },
  {
   "cell_type": "code",
   "execution_count": 3,
   "metadata": {},
   "outputs": [
    {
     "data": {
      "text/plain": [
       "<matplotlib.legend.Legend at 0x7f3c9c4f1fd0>"
      ]
     },
     "execution_count": 3,
     "metadata": {},
     "output_type": "execute_result"
    },
    {
     "data": {
      "image/png": "[encoded data removed]",
      "text/plain": [
       "<Figure size 432x288 with 1 Axes>"
      ]
     },
     "metadata": {
      "needs_background": "light"
     },
     "output_type": "display_data"
    }
   ],
   "source": [
    "\n",
    "# Implementation of matplotlib function\n",
    "\n",
    "import numpy as np\n",
    "import matplotlib.pyplot as plt\n",
    "from matplotlib.patches import Rectangle\n",
    "low = \"blue\"\n",
    "medium = \"orange\"\n",
    "high = \"green\"\n",
    "num4 = \"purple\"\n",
    "nbin = 100\n",
    "counts, bins = np.histogram(grad_kldiv,bins=nbin)\n",
    "plt.hist(bins[:-1], bins, weights=counts, color = low, alpha=0.5)\n",
    "counts2, bins2 = np.histogram(grad_klfr, bins=nbin)\n",
    "plt.hist(bins2[:-1], bins2, weights=counts2, color = medium, alpha=0.5)\n",
    "counts3, bins3 = np.histogram(grad_kldivg, bins=30)\n",
    "plt.hist(bins3[:-1], bins3, weights=counts3, color = high, alpha=0.5)\n",
    "counts4, bins4 = np.histogram(grad_klfrg, bins=30)\n",
    "plt.hist(bins4[:-1], bins4, weights=counts4, color = num4, alpha=0.5)\n",
    "\n",
    "handles = [Rectangle((0,0),1,1,color=c,ec=\"k\") for c in [low,medium,high,num4]]\n",
    "labels= [\"kldiv_bad\",\"kldivfr_bad\",\"kldiv_gd\",\"kldivfr_gd\",]\n",
    "plt.legend(handles, labels)"
   ]
  },
  {
   "cell_type": "code",
   "execution_count": 10,
   "metadata": {},
   "outputs": [
    {
     "name": "stderr",
     "output_type": "stream",
     "text": [
      "/tmp/ipykernel_6051/293175913.py:2: UserWarning: \n",
      "\n",
      "`distplot` is a deprecated function and will be removed in seaborn v0.14.0.\n",
      "\n",
      "Please adapt your code to use either `displot` (a figure-level function with\n",
      "similar flexibility) or `histplot` (an axes-level function for histograms).\n",
      "\n",
      "For a guide to updating your code to use the new functions, please see\n",
      "https://gist.github.com/mwaskom/de44147ed2974457ad6372750bbe5751\n",
      "\n",
      "  sns.distplot(grad_kldiv, hist=True, kde=True,\n",
      "/tmp/ipykernel_6051/293175913.py:7: UserWarning: \n",
      "\n",
      "`distplot` is a deprecated function and will be removed in seaborn v0.14.0.\n",
      "\n",
      "Please adapt your code to use either `displot` (a figure-level function with\n",
      "similar flexibility) or `histplot` (an axes-level function for histograms).\n",
      "\n",
      "For a guide to updating your code to use the new functions, please see\n",
      "https://gist.github.com/mwaskom/de44147ed2974457ad6372750bbe5751\n",
      "\n",
      "  sns.distplot(grad_klfr, hist=True, kde=True,\n",
      "/tmp/ipykernel_6051/293175913.py:12: UserWarning: \n",
      "\n",
      "`distplot` is a deprecated function and will be removed in seaborn v0.14.0.\n",
      "\n",
      "Please adapt your code to use either `displot` (a figure-level function with\n",
      "similar flexibility) or `histplot` (an axes-level function for histograms).\n",
      "\n",
      "For a guide to updating your code to use the new functions, please see\n",
      "https://gist.github.com/mwaskom/de44147ed2974457ad6372750bbe5751\n",
      "\n",
      "  sns.distplot(grad_kldivg, hist=True, kde=True,\n",
      "/tmp/ipykernel_6051/293175913.py:17: UserWarning: \n",
      "\n",
      "`distplot` is a deprecated function and will be removed in seaborn v0.14.0.\n",
      "\n",
      "Please adapt your code to use either `displot` (a figure-level function with\n",
      "similar flexibility) or `histplot` (an axes-level function for histograms).\n",
      "\n",
      "For a guide to updating your code to use the new functions, please see\n",
      "https://gist.github.com/mwaskom/de44147ed2974457ad6372750bbe5751\n",
      "\n",
      "  sns.distplot(grad_klfrg, hist=True, kde=True,\n"
     ]
    },
    {
     "data": {
      "text/plain": [
       "(-0.05, 0.5)"
      ]
     },
     "execution_count": 10,
     "metadata": {},
     "output_type": "execute_result"
    },
    {
     "data": {
      "image/png": "[encoded data removed]",
      "text/plain": [
       "<Figure size 432x288 with 1 Axes>"
      ]
     },
     "metadata": {
      "needs_background": "light"
     },
     "output_type": "display_data"
    }
   ],
   "source": [
    "import seaborn as sns\n",
    "import json\n",
    "grad_kldiv = json.loads(open(\"gradient_kldiv_100k_bad_sample1000.json\").readline())\n",
    "#grad_kldiv = gradients\n",
    "grad_klfr = json.loads(open(\"gradient_klfr_100k_bad_sample1000.json\").readline())\n",
    "grad_kldivg = json.loads(open(\"gradient_kldiv_100k_good_sample1000.json\").readline())\n",
    "grad_klfrg = json.loads(open(\"gradient_klfr_100k_good_sample1000.json\").readline())\n",
    "\n",
    "sns.distplot(grad_kldiv, hist=True, kde=True, \n",
    "             bins=nbin, color = 'white', \n",
    "             hist_kws={'edgecolor':'white'},\n",
    "             kde_kws={'linewidth': 2, \"color\": low})\n",
    "\n",
    "sns.distplot(grad_klfr, hist=True, kde=True, \n",
    "             bins=nbin, color = 'white', \n",
    "             hist_kws={'edgecolor':'white'},\n",
    "             kde_kws={'linewidth': 2, \"color\": medium})\n",
    "\n",
    "sns.distplot(grad_kldivg, hist=True, kde=True, \n",
    "             bins=nbin, color = 'white', \n",
    "             hist_kws={'edgecolor':'white'},\n",
    "             kde_kws={'linewidth': 2, \"color\": high})\n",
    "\n",
    "sns.distplot(grad_klfrg, hist=True, kde=True, \n",
    "             bins=nbin, color = 'white', \n",
    "             hist_kws={'edgecolor':'white'},\n",
    "             kde_kws={'linewidth': 2, \"color\": num4})\n",
    "\n",
    "plt.xlim(-0.05,0.5)"
   ]
  },
  {
   "cell_type": "code",
   "execution_count": 16,
   "metadata": {},
   "outputs": [
    {
     "name": "stderr",
     "output_type": "stream",
     "text": [
      "/tmp/ipykernel_6051/3941223143.py:9: UserWarning: \n",
      "\n",
      "`distplot` is a deprecated function and will be removed in seaborn v0.14.0.\n",
      "\n",
      "Please adapt your code to use either `displot` (a figure-level function with\n",
      "similar flexibility) or `histplot` (an axes-level function for histograms).\n",
      "\n",
      "For a guide to updating your code to use the new functions, please see\n",
      "https://gist.github.com/mwaskom/de44147ed2974457ad6372750bbe5751\n",
      "\n",
      "  sns.distplot(grad_kldiv, hist=True, kde=True,\n",
      "/tmp/ipykernel_6051/3941223143.py:14: UserWarning: \n",
      "\n",
      "`distplot` is a deprecated function and will be removed in seaborn v0.14.0.\n",
      "\n",
      "Please adapt your code to use either `displot` (a figure-level function with\n",
      "similar flexibility) or `histplot` (an axes-level function for histograms).\n",
      "\n",
      "For a guide to updating your code to use the new functions, please see\n",
      "https://gist.github.com/mwaskom/de44147ed2974457ad6372750bbe5751\n",
      "\n",
      "  sns.distplot(grad_klfr, hist=True, kde=True,\n",
      "/tmp/ipykernel_6051/3941223143.py:19: UserWarning: \n",
      "\n",
      "`distplot` is a deprecated function and will be removed in seaborn v0.14.0.\n",
      "\n",
      "Please adapt your code to use either `displot` (a figure-level function with\n",
      "similar flexibility) or `histplot` (an axes-level function for histograms).\n",
      "\n",
      "For a guide to updating your code to use the new functions, please see\n",
      "https://gist.github.com/mwaskom/de44147ed2974457ad6372750bbe5751\n",
      "\n",
      "  sns.distplot(grad_kldivg, hist=True, kde=True,\n",
      "/tmp/ipykernel_6051/3941223143.py:24: UserWarning: \n",
      "\n",
      "`distplot` is a deprecated function and will be removed in seaborn v0.14.0.\n",
      "\n",
      "Please adapt your code to use either `displot` (a figure-level function with\n",
      "similar flexibility) or `histplot` (an axes-level function for histograms).\n",
      "\n",
      "For a guide to updating your code to use the new functions, please see\n",
      "https://gist.github.com/mwaskom/de44147ed2974457ad6372750bbe5751\n",
      "\n",
      "  sns.distplot(grad_klfrg, hist=True, kde=True,\n"
     ]
    },
    {
     "data": {
      "text/plain": [
       "(0.0, 8.0)"
      ]
     },
     "execution_count": 16,
     "metadata": {},
     "output_type": "execute_result"
    },
    {
     "data": {
      "image/png": "[encoded data removed]",
      "text/plain": [
       "<Figure size 432x288 with 1 Axes>"
      ]
     },
     "metadata": {
      "needs_background": "light"
     },
     "output_type": "display_data"
    }
   ],
   "source": [
    "import seaborn as sns\n",
    "import json\n",
    "grad_kldiv = json.loads(open(\"gradient_kldiv_10_bad_sample1000.json\").readline())\n",
    "#grad_kldiv = gradients\n",
    "grad_klfr = json.loads(open(\"gradient_klfr_10_bad_sample1000.json\").readline())\n",
    "grad_kldivg = json.loads(open(\"gradient_kldiv_10_good_sample1000.json\").readline())\n",
    "grad_klfrg = json.loads(open(\"gradient_klfr_10_good_sample1000.json\").readline())\n",
    "\n",
    "sns.distplot(grad_kldiv, hist=True, kde=True, \n",
    "             bins=nbin, color = 'white', \n",
    "             hist_kws={'edgecolor':'white'},\n",
    "             kde_kws={'linewidth': 2, \"color\": low})\n",
    "\n",
    "sns.distplot(grad_klfr, hist=True, kde=True, \n",
    "             bins=nbin, color = 'white', \n",
    "             hist_kws={'edgecolor':'white'},\n",
    "             kde_kws={'linewidth': 2, \"color\": medium})\n",
    "\n",
    "sns.distplot(grad_kldivg, hist=True, kde=True, \n",
    "             bins=nbin, color = 'white', \n",
    "             hist_kws={'edgecolor':'white'},\n",
    "             kde_kws={'linewidth': 2, \"color\": high})\n",
    "\n",
    "sns.distplot(grad_klfrg, hist=True, kde=True, \n",
    "             bins=nbin, color = 'white', \n",
    "             hist_kws={'edgecolor':'white'},\n",
    "             kde_kws={'linewidth': 2, \"color\": num4})\n",
    "\n",
    "plt.xlim(-0.05,8)\n",
    "plt.ylim(0,8)"
   ]
  },
  {
   "cell_type": "code",
   "execution_count": 19,
   "metadata": {},
   "outputs": [
    {
     "name": "stderr",
     "output_type": "stream",
     "text": [
      "/tmp/ipykernel_6051/3988015098.py:9: UserWarning: \n",
      "\n",
      "`distplot` is a deprecated function and will be removed in seaborn v0.14.0.\n",
      "\n",
      "Please adapt your code to use either `displot` (a figure-level function with\n",
      "similar flexibility) or `histplot` (an axes-level function for histograms).\n",
      "\n",
      "For a guide to updating your code to use the new functions, please see\n",
      "https://gist.github.com/mwaskom/de44147ed2974457ad6372750bbe5751\n",
      "\n",
      "  sns.distplot(grad_kldiv, hist=True, kde=True,\n",
      "/tmp/ipykernel_6051/3988015098.py:14: UserWarning: \n",
      "\n",
      "`distplot` is a deprecated function and will be removed in seaborn v0.14.0.\n",
      "\n",
      "Please adapt your code to use either `displot` (a figure-level function with\n",
      "similar flexibility) or `histplot` (an axes-level function for histograms).\n",
      "\n",
      "For a guide to updating your code to use the new functions, please see\n",
      "https://gist.github.com/mwaskom/de44147ed2974457ad6372750bbe5751\n",
      "\n",
      "  sns.distplot(grad_klfr, hist=True, kde=True,\n"
     ]
    },
    {
     "data": {
      "text/plain": [
       "(0.0, 8.0)"
      ]
     },
     "execution_count": 19,
     "metadata": {},
     "output_type": "execute_result"
    },
    {
     "data": {
      "image/png": "[encoded data removed]",
      "text/plain": [
       "<Figure size 432x288 with 1 Axes>"
      ]
     },
     "metadata": {
      "needs_background": "light"
     },
     "output_type": "display_data"
    }
   ],
   "source": [
    "import seaborn as sns\n",
    "import json\n",
    "grad_kldiv = json.loads(open(\"gradient_klfr_10_bad_sample1000.json\").readline())\n",
    "#grad_kldiv = gradients\n",
    "grad_klfr = json.loads(open(\"gradient_klfr_100k_bad_sample1000.json\").readline())\n",
    "grad_kldivg = json.loads(open(\"gradient_klfr_10_good_sample1000.json\").readline())\n",
    "grad_klfrg = json.loads(open(\"gradient_klfr_100k_good_sample1000.json\").readline())\n",
    "\n",
    "sns.distplot(grad_kldiv, hist=True, kde=True, \n",
    "             bins=nbin, color = 'white', \n",
    "             hist_kws={'edgecolor':'white'},\n",
    "             kde_kws={'linewidth': 2, \"color\": low})\n",
    "\n",
    "sns.distplot(grad_klfr, hist=True, kde=True, \n",
    "             bins=nbin, color = 'white', \n",
    "             hist_kws={'edgecolor':'white'},\n",
    "             kde_kws={'linewidth': 2, \"color\": medium})\n",
    "\n",
    "'''\n",
    "sns.distplot(grad_kldiv, hist=True, kde=True, \n",
    "             bins=nbin, color = 'white', \n",
    "             hist_kws={'edgecolor':low},\n",
    "             kde_kws={'linewidth': 2, \"color\": low})\n",
    "\n",
    "sns.distplot(grad_klfr, hist=True, kde=True, \n",
    "             bins=nbin, color = 'white', \n",
    "             hist_kws={'edgecolor':medium},\n",
    "             kde_kws={'linewidth': 2, \"color\": medium})\n",
    "'''\n",
    "plt.xlim(-0.05,1)\n",
    "plt.ylim(0,8)"
   ]
  },
  {
   "cell_type": "code",
   "execution_count": null,
   "metadata": {},
   "outputs": [],
   "source": []
  }
 ],
 "metadata": {
  "kernelspec": {
   "display_name": "splade",
   "language": "python",
   "name": "splade"
  },
  "language_info": {
   "codemirror_mode": {
    "name": "ipython",
    "version": 3
   },
   "file_extension": ".py",
   "mimetype": "text/x-python",
   "name": "python",
   "nbconvert_exporter": "python",
   "pygments_lexer": "ipython3",
   "version": "3.9.15"
  },
  "vscode": {
   "interpreter": {
    "hash": "6c4e66b6f3201996a025948777fa0122bc43a7de34b4677f9af1ad716105c41a"
   }
  }
 },
 "nbformat": 4,
 "nbformat_minor": 2
}
